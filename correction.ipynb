{
 "cells": [
  {
   "cell_type": "code",
   "execution_count": 3,
   "metadata": {
    "collapsed": true
   },
   "outputs": [
    {
     "data": {
      "text/plain": "        Income percentile                  (1)                  (2)  \\\n        Income percentile Income heterogeneity Income heterogeneity   \n                      >50                  >75                  >80   \n0                    ▵atr              0.468**             0.826***   \n1                     NaN              (0.191)              (0.278)   \n2                ▵atr × R              −0.561*             −1.006**   \n3                     NaN              (0.313)              (0.434)   \n4                     mtr              0.087**               0.121*   \n5                     NaN              (0.043)              (0.067)   \n6                 mtr × R               −0.030               −0.104   \n7                     NaN              (0.044)              (0.069)   \n8  Number of observations               470439               230980   \n9                      R2                0.230                0.254   \n\n                   (3)                  (4)                  (5)  \\\n  Income heterogeneity Income heterogeneity Income heterogeneity   \n                   >85                  >90      >75 & homeowner   \n0             0.963***             1.112***             1.236***   \n1              (0.273)              (0.299)              (0.310)   \n2             −1.032**            −1.383***            −2.071***   \n3              (0.437)              (0.503)              (0.542)   \n4              0.131**              0.108**                0.052   \n5              (0.060)              (0.048)              (0.045)   \n6              −0.120*               −0.106               −0.079   \n7              (0.068)              (0.070)              (0.051)   \n8               184062               136786                90527   \n9                0.261                0.267                0.277   \n\n            (6)             (7)           (8)                (9)  \n  Homeownership   Homeownership Homeownership      Homeownership  \n   >75 & renter >90 & homeowner  >90 & renter Unnamed: 9_level_2  \n0      0.682***        1.225***      1.047***           1.271***  \n1       (0.244)         (0.371)       (0.279)            (0.297)  \n2      −0.834**          −0.415     −1.808***            −3.024*  \n3       (0.392)         (1.002)       (0.473)            (1.740)  \n4       0.120**           0.028       0.069**             −0.082  \n5       (0.060)         (0.126)       (0.031)            (0.112)  \n6        −0.101          −0.107       −0.086*             −0.014  \n7       (0.067)         (0.147)       (0.046)            (0.171)  \n8        208634           22346         83813               6714  \n9         0.264           0.256         0.289              0.294  ",
      "text/html": "<div>\n<style scoped>\n    .dataframe tbody tr th:only-of-type {\n        vertical-align: middle;\n    }\n\n    .dataframe tbody tr th {\n        vertical-align: top;\n    }\n\n    .dataframe thead tr th {\n        text-align: left;\n    }\n</style>\n<table border=\"1\" class=\"dataframe\">\n  <thead>\n    <tr>\n      <th></th>\n      <th>Income percentile</th>\n      <th>(1)</th>\n      <th>(2)</th>\n      <th>(3)</th>\n      <th>(4)</th>\n      <th>(5)</th>\n      <th>(6)</th>\n      <th>(7)</th>\n      <th>(8)</th>\n      <th>(9)</th>\n    </tr>\n    <tr>\n      <th></th>\n      <th>Income percentile</th>\n      <th>Income heterogeneity</th>\n      <th>Income heterogeneity</th>\n      <th>Income heterogeneity</th>\n      <th>Income heterogeneity</th>\n      <th>Income heterogeneity</th>\n      <th>Homeownership</th>\n      <th>Homeownership</th>\n      <th>Homeownership</th>\n      <th>Homeownership</th>\n    </tr>\n    <tr>\n      <th></th>\n      <th>&gt;50</th>\n      <th>&gt;75</th>\n      <th>&gt;80</th>\n      <th>&gt;85</th>\n      <th>&gt;90</th>\n      <th>&gt;75 &amp; homeowner</th>\n      <th>&gt;75 &amp; renter</th>\n      <th>&gt;90 &amp; homeowner</th>\n      <th>&gt;90 &amp; renter</th>\n      <th>Unnamed: 9_level_2</th>\n    </tr>\n  </thead>\n  <tbody>\n    <tr>\n      <th>0</th>\n      <td>▵atr</td>\n      <td>0.468**</td>\n      <td>0.826***</td>\n      <td>0.963***</td>\n      <td>1.112***</td>\n      <td>1.236***</td>\n      <td>0.682***</td>\n      <td>1.225***</td>\n      <td>1.047***</td>\n      <td>1.271***</td>\n    </tr>\n    <tr>\n      <th>1</th>\n      <td>NaN</td>\n      <td>(0.191)</td>\n      <td>(0.278)</td>\n      <td>(0.273)</td>\n      <td>(0.299)</td>\n      <td>(0.310)</td>\n      <td>(0.244)</td>\n      <td>(0.371)</td>\n      <td>(0.279)</td>\n      <td>(0.297)</td>\n    </tr>\n    <tr>\n      <th>2</th>\n      <td>▵atr × R</td>\n      <td>−0.561*</td>\n      <td>−1.006**</td>\n      <td>−1.032**</td>\n      <td>−1.383***</td>\n      <td>−2.071***</td>\n      <td>−0.834**</td>\n      <td>−0.415</td>\n      <td>−1.808***</td>\n      <td>−3.024*</td>\n    </tr>\n    <tr>\n      <th>3</th>\n      <td>NaN</td>\n      <td>(0.313)</td>\n      <td>(0.434)</td>\n      <td>(0.437)</td>\n      <td>(0.503)</td>\n      <td>(0.542)</td>\n      <td>(0.392)</td>\n      <td>(1.002)</td>\n      <td>(0.473)</td>\n      <td>(1.740)</td>\n    </tr>\n    <tr>\n      <th>4</th>\n      <td>mtr</td>\n      <td>0.087**</td>\n      <td>0.121*</td>\n      <td>0.131**</td>\n      <td>0.108**</td>\n      <td>0.052</td>\n      <td>0.120**</td>\n      <td>0.028</td>\n      <td>0.069**</td>\n      <td>−0.082</td>\n    </tr>\n    <tr>\n      <th>5</th>\n      <td>NaN</td>\n      <td>(0.043)</td>\n      <td>(0.067)</td>\n      <td>(0.060)</td>\n      <td>(0.048)</td>\n      <td>(0.045)</td>\n      <td>(0.060)</td>\n      <td>(0.126)</td>\n      <td>(0.031)</td>\n      <td>(0.112)</td>\n    </tr>\n    <tr>\n      <th>6</th>\n      <td>mtr × R</td>\n      <td>−0.030</td>\n      <td>−0.104</td>\n      <td>−0.120*</td>\n      <td>−0.106</td>\n      <td>−0.079</td>\n      <td>−0.101</td>\n      <td>−0.107</td>\n      <td>−0.086*</td>\n      <td>−0.014</td>\n    </tr>\n    <tr>\n      <th>7</th>\n      <td>NaN</td>\n      <td>(0.044)</td>\n      <td>(0.069)</td>\n      <td>(0.068)</td>\n      <td>(0.070)</td>\n      <td>(0.051)</td>\n      <td>(0.067)</td>\n      <td>(0.147)</td>\n      <td>(0.046)</td>\n      <td>(0.171)</td>\n    </tr>\n    <tr>\n      <th>8</th>\n      <td>Number of observations</td>\n      <td>470439</td>\n      <td>230980</td>\n      <td>184062</td>\n      <td>136786</td>\n      <td>90527</td>\n      <td>208634</td>\n      <td>22346</td>\n      <td>83813</td>\n      <td>6714</td>\n    </tr>\n    <tr>\n      <th>9</th>\n      <td>R2</td>\n      <td>0.230</td>\n      <td>0.254</td>\n      <td>0.261</td>\n      <td>0.267</td>\n      <td>0.277</td>\n      <td>0.264</td>\n      <td>0.256</td>\n      <td>0.289</td>\n      <td>0.294</td>\n    </tr>\n  </tbody>\n</table>\n</div>"
     },
     "execution_count": 3,
     "metadata": {},
     "output_type": "execute_result"
    }
   ],
   "source": [
    "import Models.JournalModel as JM\n",
    "ej = JM.Journal('Economic Journal', \"ej\", \"Data/Economic_Journal\")\n",
    "articles = [\n",
    "    {'doi': \"https://doi.org/10.1111/ecoj.12278\",  # (0) variable rowheights in body\n",
    "     'table': 4 },\n",
    "    {'doi': \"https://doi.org/10.1111/ecoj.12550\",  # (1) misshift table head\n",
    "     'table': 4 },\n",
    "    {'doi': \"\",  # (2)\n",
    "     'table': None  },\n",
    "    {'doi': \"\",  # (3)\n",
    "     'table': None }\n",
    "]\n",
    "d = articles[1]\n",
    "a = ej.find_article_by_doi(d['doi'])\n",
    "t = a.table(d['table'])  # select table 4\n",
    "t._df_raw"
   ]
  },
  {
   "cell_type": "code",
   "execution_count": 4,
   "outputs": [
    {
     "data": {
      "text/plain": "        Income percentile                  (1)                  (2)  \\\n        Income percentile Income heterogeneity Income heterogeneity   \n       Unnamed: 0_level_2                  >50                  >75   \n0                    ▵atr              0.468**             0.826***   \n1                     NaN              (0.191)              (0.278)   \n2                ▵atr × R              −0.561*             −1.006**   \n3                     NaN              (0.313)              (0.434)   \n4                     mtr              0.087**               0.121*   \n5                     NaN              (0.043)              (0.067)   \n6                 mtr × R               −0.030               −0.104   \n7                     NaN              (0.044)              (0.069)   \n8  Number of observations               470439               230980   \n9                      R2                0.230                0.254   \n\n                   (3)                  (4)                  (5)  \\\n  Income heterogeneity Income heterogeneity Income heterogeneity   \n                   >80                  >85                  >90   \n0             0.963***             1.112***             1.236***   \n1              (0.273)              (0.299)              (0.310)   \n2             −1.032**            −1.383***            −2.071***   \n3              (0.437)              (0.503)              (0.542)   \n4              0.131**              0.108**                0.052   \n5              (0.060)              (0.048)              (0.045)   \n6              −0.120*               −0.106               −0.079   \n7              (0.068)              (0.070)              (0.051)   \n8               184062               136786                90527   \n9                0.261                0.267                0.277   \n\n              (6)           (7)             (8)           (9)  \n    Homeownership Homeownership   Homeownership Homeownership  \n  >75 & homeowner  >75 & renter >90 & homeowner  >90 & renter  \n0        0.682***      1.225***        1.047***      1.271***  \n1         (0.244)       (0.371)         (0.279)       (0.297)  \n2        −0.834**        −0.415       −1.808***       −3.024*  \n3         (0.392)       (1.002)         (0.473)       (1.740)  \n4         0.120**         0.028         0.069**        −0.082  \n5         (0.060)       (0.126)         (0.031)       (0.112)  \n6          −0.101        −0.107         −0.086*        −0.014  \n7         (0.067)       (0.147)         (0.046)       (0.171)  \n8          208634         22346           83813          6714  \n9           0.264         0.256           0.289         0.294  ",
      "text/html": "<div>\n<style scoped>\n    .dataframe tbody tr th:only-of-type {\n        vertical-align: middle;\n    }\n\n    .dataframe tbody tr th {\n        vertical-align: top;\n    }\n\n    .dataframe thead tr th {\n        text-align: left;\n    }\n</style>\n<table border=\"1\" class=\"dataframe\">\n  <thead>\n    <tr>\n      <th></th>\n      <th>Income percentile</th>\n      <th>(1)</th>\n      <th>(2)</th>\n      <th>(3)</th>\n      <th>(4)</th>\n      <th>(5)</th>\n      <th>(6)</th>\n      <th>(7)</th>\n      <th>(8)</th>\n      <th>(9)</th>\n    </tr>\n    <tr>\n      <th></th>\n      <th>Income percentile</th>\n      <th>Income heterogeneity</th>\n      <th>Income heterogeneity</th>\n      <th>Income heterogeneity</th>\n      <th>Income heterogeneity</th>\n      <th>Income heterogeneity</th>\n      <th>Homeownership</th>\n      <th>Homeownership</th>\n      <th>Homeownership</th>\n      <th>Homeownership</th>\n    </tr>\n    <tr>\n      <th></th>\n      <th>Unnamed: 0_level_2</th>\n      <th>&gt;50</th>\n      <th>&gt;75</th>\n      <th>&gt;80</th>\n      <th>&gt;85</th>\n      <th>&gt;90</th>\n      <th>&gt;75 &amp; homeowner</th>\n      <th>&gt;75 &amp; renter</th>\n      <th>&gt;90 &amp; homeowner</th>\n      <th>&gt;90 &amp; renter</th>\n    </tr>\n  </thead>\n  <tbody>\n    <tr>\n      <th>0</th>\n      <td>▵atr</td>\n      <td>0.468**</td>\n      <td>0.826***</td>\n      <td>0.963***</td>\n      <td>1.112***</td>\n      <td>1.236***</td>\n      <td>0.682***</td>\n      <td>1.225***</td>\n      <td>1.047***</td>\n      <td>1.271***</td>\n    </tr>\n    <tr>\n      <th>1</th>\n      <td>NaN</td>\n      <td>(0.191)</td>\n      <td>(0.278)</td>\n      <td>(0.273)</td>\n      <td>(0.299)</td>\n      <td>(0.310)</td>\n      <td>(0.244)</td>\n      <td>(0.371)</td>\n      <td>(0.279)</td>\n      <td>(0.297)</td>\n    </tr>\n    <tr>\n      <th>2</th>\n      <td>▵atr × R</td>\n      <td>−0.561*</td>\n      <td>−1.006**</td>\n      <td>−1.032**</td>\n      <td>−1.383***</td>\n      <td>−2.071***</td>\n      <td>−0.834**</td>\n      <td>−0.415</td>\n      <td>−1.808***</td>\n      <td>−3.024*</td>\n    </tr>\n    <tr>\n      <th>3</th>\n      <td>NaN</td>\n      <td>(0.313)</td>\n      <td>(0.434)</td>\n      <td>(0.437)</td>\n      <td>(0.503)</td>\n      <td>(0.542)</td>\n      <td>(0.392)</td>\n      <td>(1.002)</td>\n      <td>(0.473)</td>\n      <td>(1.740)</td>\n    </tr>\n    <tr>\n      <th>4</th>\n      <td>mtr</td>\n      <td>0.087**</td>\n      <td>0.121*</td>\n      <td>0.131**</td>\n      <td>0.108**</td>\n      <td>0.052</td>\n      <td>0.120**</td>\n      <td>0.028</td>\n      <td>0.069**</td>\n      <td>−0.082</td>\n    </tr>\n    <tr>\n      <th>5</th>\n      <td>NaN</td>\n      <td>(0.043)</td>\n      <td>(0.067)</td>\n      <td>(0.060)</td>\n      <td>(0.048)</td>\n      <td>(0.045)</td>\n      <td>(0.060)</td>\n      <td>(0.126)</td>\n      <td>(0.031)</td>\n      <td>(0.112)</td>\n    </tr>\n    <tr>\n      <th>6</th>\n      <td>mtr × R</td>\n      <td>−0.030</td>\n      <td>−0.104</td>\n      <td>−0.120*</td>\n      <td>−0.106</td>\n      <td>−0.079</td>\n      <td>−0.101</td>\n      <td>−0.107</td>\n      <td>−0.086*</td>\n      <td>−0.014</td>\n    </tr>\n    <tr>\n      <th>7</th>\n      <td>NaN</td>\n      <td>(0.044)</td>\n      <td>(0.069)</td>\n      <td>(0.068)</td>\n      <td>(0.070)</td>\n      <td>(0.051)</td>\n      <td>(0.067)</td>\n      <td>(0.147)</td>\n      <td>(0.046)</td>\n      <td>(0.171)</td>\n    </tr>\n    <tr>\n      <th>8</th>\n      <td>Number of observations</td>\n      <td>470439</td>\n      <td>230980</td>\n      <td>184062</td>\n      <td>136786</td>\n      <td>90527</td>\n      <td>208634</td>\n      <td>22346</td>\n      <td>83813</td>\n      <td>6714</td>\n    </tr>\n    <tr>\n      <th>9</th>\n      <td>R2</td>\n      <td>0.230</td>\n      <td>0.254</td>\n      <td>0.261</td>\n      <td>0.267</td>\n      <td>0.277</td>\n      <td>0.264</td>\n      <td>0.256</td>\n      <td>0.289</td>\n      <td>0.294</td>\n    </tr>\n  </tbody>\n</table>\n</div>"
     },
     "execution_count": 4,
     "metadata": {},
     "output_type": "execute_result"
    }
   ],
   "source": [
    "t.df"
   ],
   "metadata": {
    "collapsed": false,
    "pycharm": {
     "name": "#%%\n"
    }
   }
  }
 ],
 "metadata": {
  "kernelspec": {
   "display_name": "Python 3",
   "language": "python",
   "name": "python3"
  },
  "language_info": {
   "codemirror_mode": {
    "name": "ipython",
    "version": 2
   },
   "file_extension": ".py",
   "mimetype": "text/x-python",
   "name": "python",
   "nbconvert_exporter": "python",
   "pygments_lexer": "ipython2",
   "version": "2.7.6"
  }
 },
 "nbformat": 4,
 "nbformat_minor": 0
}