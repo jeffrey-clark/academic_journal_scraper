{
 "cells": [
  {
   "cell_type": "code",
   "execution_count": 1,
   "metadata": {
    "collapsed": true
   },
   "outputs": [],
   "source": [
    "import re\n",
    "\n",
    "import Models.JournalModel as JM\n",
    "import pandas as pd\n",
    "\n",
    "ej = JM.Journal(\"ej\")"
   ]
  },
  {
   "cell_type": "code",
   "execution_count": 30,
   "outputs": [
    {
     "name": "stdout",
     "output_type": "stream",
     "text": [
      "None\n",
      "None\n",
      "None\n",
      "None\n",
      "None\n",
      "None\n",
      "None\n",
      "None\n"
     ]
    },
    {
     "ename": "AttributeError",
     "evalue": "'NoneType' object has no attribute 'findAll'",
     "output_type": "error",
     "traceback": [
      "\u001B[1;31m---------------------------------------------------------------------------\u001B[0m",
      "\u001B[1;31mAttributeError\u001B[0m                            Traceback (most recent call last)",
      "\u001B[1;32m<ipython-input-30-bf0469aebb8c>\u001B[0m in \u001B[0;36m<module>\u001B[1;34m\u001B[0m\n\u001B[0;32m      4\u001B[0m     \u001B[1;32mfor\u001B[0m \u001B[0ma\u001B[0m \u001B[1;32min\u001B[0m \u001B[0mcambridge\u001B[0m\u001B[1;33m.\u001B[0m\u001B[0mvolume\u001B[0m\u001B[1;33m(\u001B[0m\u001B[1;36m31\u001B[0m\u001B[1;33m)\u001B[0m\u001B[1;33m.\u001B[0m\u001B[0missue\u001B[0m\u001B[1;33m(\u001B[0m\u001B[0mi\u001B[0m\u001B[1;33m)\u001B[0m\u001B[1;33m.\u001B[0m\u001B[0mlist_articles\u001B[0m\u001B[1;33m(\u001B[0m\u001B[1;34m'list'\u001B[0m\u001B[1;33m)\u001B[0m\u001B[1;33m:\u001B[0m\u001B[1;33m\u001B[0m\u001B[1;33m\u001B[0m\u001B[0m\n\u001B[0;32m      5\u001B[0m        \u001B[1;31m# print(\"tables are\", a.list_tables('list'))\u001B[0m\u001B[1;33m\u001B[0m\u001B[1;33m\u001B[0m\u001B[1;33m\u001B[0m\u001B[0m\n\u001B[1;32m----> 6\u001B[1;33m         \u001B[1;32mif\u001B[0m \u001B[0ma\u001B[0m\u001B[1;33m.\u001B[0m\u001B[0mlist_tables\u001B[0m\u001B[1;33m(\u001B[0m\u001B[1;34m\"list\"\u001B[0m\u001B[1;33m)\u001B[0m \u001B[1;33m!=\u001B[0m \u001B[1;32mNone\u001B[0m\u001B[1;33m:\u001B[0m\u001B[1;33m\u001B[0m\u001B[1;33m\u001B[0m\u001B[0m\n\u001B[0m\u001B[0;32m      7\u001B[0m             \u001B[1;32mfor\u001B[0m \u001B[0mt\u001B[0m \u001B[1;32min\u001B[0m \u001B[0ma\u001B[0m\u001B[1;33m.\u001B[0m\u001B[0mlist_tables\u001B[0m\u001B[1;33m(\u001B[0m\u001B[1;34m'list'\u001B[0m\u001B[1;33m)\u001B[0m\u001B[1;33m:\u001B[0m\u001B[1;33m\u001B[0m\u001B[1;33m\u001B[0m\u001B[0m\n\u001B[0;32m      8\u001B[0m                 \u001B[1;32mtry\u001B[0m\u001B[1;33m:\u001B[0m\u001B[1;33m\u001B[0m\u001B[1;33m\u001B[0m\u001B[0m\n",
      "\u001B[1;32m~\\GitHub\\HTML-projektet\\Models\\JournalModel.py\u001B[0m in \u001B[0;36mlist_tables\u001B[1;34m(self, type)\u001B[0m\n\u001B[0;32m    294\u001B[0m         \u001B[0mall_tables\u001B[0m \u001B[1;33m=\u001B[0m \u001B[1;33m[\u001B[0m\u001B[1;33m]\u001B[0m\u001B[1;33m\u001B[0m\u001B[1;33m\u001B[0m\u001B[0m\n\u001B[0;32m    295\u001B[0m         \u001B[1;32mfor\u001B[0m \u001B[0mh\u001B[0m \u001B[1;32min\u001B[0m \u001B[0mself\u001B[0m\u001B[1;33m.\u001B[0m\u001B[0mlist_headings\u001B[0m\u001B[1;33m(\u001B[0m\u001B[1;34m'list'\u001B[0m\u001B[1;33m)\u001B[0m\u001B[1;33m:\u001B[0m\u001B[1;33m\u001B[0m\u001B[1;33m\u001B[0m\u001B[0m\n\u001B[1;32m--> 296\u001B[1;33m             \u001B[0mt\u001B[0m \u001B[1;33m=\u001B[0m \u001B[0mh\u001B[0m\u001B[1;33m.\u001B[0m\u001B[0mlist_tables\u001B[0m\u001B[1;33m(\u001B[0m\u001B[1;34m\"list\"\u001B[0m\u001B[1;33m)\u001B[0m\u001B[1;33m\u001B[0m\u001B[1;33m\u001B[0m\u001B[0m\n\u001B[0m\u001B[0;32m    297\u001B[0m             \u001B[0mall_tables\u001B[0m \u001B[1;33m=\u001B[0m \u001B[0mall_tables\u001B[0m \u001B[1;33m+\u001B[0m \u001B[0mt\u001B[0m\u001B[1;33m\u001B[0m\u001B[1;33m\u001B[0m\u001B[0m\n\u001B[0;32m    298\u001B[0m         \u001B[1;32mif\u001B[0m \u001B[0mtype\u001B[0m \u001B[1;32min\u001B[0m \u001B[1;33m[\u001B[0m\u001B[1;34m'df'\u001B[0m\u001B[1;33m]\u001B[0m\u001B[1;33m:\u001B[0m\u001B[1;33m\u001B[0m\u001B[1;33m\u001B[0m\u001B[0m\n",
      "\u001B[1;32m~\\GitHub\\HTML-projektet\\Models\\JournalModel.py\u001B[0m in \u001B[0;36mlist_tables\u001B[1;34m(self, type)\u001B[0m\n\u001B[0;32m    425\u001B[0m \u001B[1;33m\u001B[0m\u001B[0m\n\u001B[0;32m    426\u001B[0m     \u001B[1;32mdef\u001B[0m \u001B[0mlist_tables\u001B[0m\u001B[1;33m(\u001B[0m\u001B[0mself\u001B[0m\u001B[1;33m,\u001B[0m \u001B[0mtype\u001B[0m\u001B[1;33m=\u001B[0m\u001B[1;34m'df'\u001B[0m\u001B[1;33m)\u001B[0m\u001B[1;33m:\u001B[0m\u001B[1;33m\u001B[0m\u001B[1;33m\u001B[0m\u001B[0m\n\u001B[1;32m--> 427\u001B[1;33m         \u001B[0mtable_list\u001B[0m \u001B[1;33m=\u001B[0m \u001B[0mself\u001B[0m\u001B[1;33m.\u001B[0m\u001B[0m_identify_tables\u001B[0m\u001B[1;33m(\u001B[0m\u001B[1;33m)\u001B[0m\u001B[1;33m\u001B[0m\u001B[1;33m\u001B[0m\u001B[0m\n\u001B[0m\u001B[0;32m    428\u001B[0m         \u001B[1;32mif\u001B[0m \u001B[0mtype\u001B[0m \u001B[1;32min\u001B[0m \u001B[1;33m[\u001B[0m\u001B[1;34m'df'\u001B[0m\u001B[1;33m]\u001B[0m\u001B[1;33m:\u001B[0m\u001B[1;33m\u001B[0m\u001B[1;33m\u001B[0m\u001B[0m\n\u001B[0;32m    429\u001B[0m             \u001B[0mid\u001B[0m \u001B[1;33m=\u001B[0m \u001B[1;33m[\u001B[0m\u001B[0mi\u001B[0m \u001B[1;32mfor\u001B[0m \u001B[0mi\u001B[0m \u001B[1;32min\u001B[0m \u001B[0mrange\u001B[0m\u001B[1;33m(\u001B[0m\u001B[1;36m1\u001B[0m\u001B[1;33m,\u001B[0m \u001B[1;33m(\u001B[0m\u001B[0mlen\u001B[0m\u001B[1;33m(\u001B[0m\u001B[0mtable_list\u001B[0m\u001B[1;33m)\u001B[0m\u001B[1;33m+\u001B[0m\u001B[1;36m1\u001B[0m\u001B[1;33m)\u001B[0m\u001B[1;33m)\u001B[0m\u001B[1;33m]\u001B[0m\u001B[1;33m\u001B[0m\u001B[1;33m\u001B[0m\u001B[0m\n",
      "\u001B[1;32m~\\GitHub\\HTML-projektet\\Models\\JournalModel.py\u001B[0m in \u001B[0;36m_identify_tables\u001B[1;34m(self)\u001B[0m\n\u001B[0;32m    401\u001B[0m             \u001B[1;31m# create the Table objects using the soup for the table as we will need to\u001B[0m\u001B[1;33m\u001B[0m\u001B[1;33m\u001B[0m\u001B[1;33m\u001B[0m\u001B[0m\n\u001B[0;32m    402\u001B[0m             \u001B[1;31m# correct misaligned tables directly in the html code.\u001B[0m\u001B[1;33m\u001B[0m\u001B[1;33m\u001B[0m\u001B[1;33m\u001B[0m\u001B[0m\n\u001B[1;32m--> 403\u001B[1;33m             \u001B[0mtables\u001B[0m\u001B[1;33m.\u001B[0m\u001B[0mappend\u001B[0m\u001B[1;33m(\u001B[0m\u001B[0mTable\u001B[0m\u001B[1;33m(\u001B[0m\u001B[0mname\u001B[0m\u001B[1;33m,\u001B[0m \u001B[0mtitle\u001B[0m\u001B[1;33m,\u001B[0m \u001B[0mt\u001B[0m\u001B[1;33m,\u001B[0m \u001B[0mfootnotes\u001B[0m\u001B[1;33m,\u001B[0m \u001B[0mself\u001B[0m\u001B[1;33m)\u001B[0m\u001B[1;33m)\u001B[0m\u001B[1;33m\u001B[0m\u001B[1;33m\u001B[0m\u001B[0m\n\u001B[0m\u001B[0;32m    404\u001B[0m             \u001B[1;31m# convert to df for duplicate identification, as tables might be duplicate,\u001B[0m\u001B[1;33m\u001B[0m\u001B[1;33m\u001B[0m\u001B[1;33m\u001B[0m\u001B[0m\n\u001B[0;32m    405\u001B[0m             \u001B[1;31m# but differ in html tags. Converting the dataframes will disregard html tags\u001B[0m\u001B[1;33m\u001B[0m\u001B[1;33m\u001B[0m\u001B[1;33m\u001B[0m\u001B[0m\n",
      "\u001B[1;32m~\\GitHub\\HTML-projektet\\Models\\JournalModel.py\u001B[0m in \u001B[0;36m__init__\u001B[1;34m(self, name, title, soup, footnotes, heading)\u001B[0m\n\u001B[0;32m    461\u001B[0m         \u001B[0mself\u001B[0m\u001B[1;33m.\u001B[0m\u001B[0m_df_raw\u001B[0m \u001B[1;33m=\u001B[0m \u001B[0mpd\u001B[0m\u001B[1;33m.\u001B[0m\u001B[0mread_html\u001B[0m\u001B[1;33m(\u001B[0m\u001B[0mstr\u001B[0m\u001B[1;33m(\u001B[0m\u001B[0msoup\u001B[0m\u001B[1;33m)\u001B[0m\u001B[1;33m)\u001B[0m\u001B[1;33m[\u001B[0m\u001B[1;36m0\u001B[0m\u001B[1;33m]\u001B[0m\u001B[1;33m\u001B[0m\u001B[1;33m\u001B[0m\u001B[0m\n\u001B[0;32m    462\u001B[0m         \u001B[1;31m#self.df = correct_misshift(soup, (self.name + \" \" + self.title)) # for debugging\u001B[0m\u001B[1;33m\u001B[0m\u001B[1;33m\u001B[0m\u001B[1;33m\u001B[0m\u001B[0m\n\u001B[1;32m--> 463\u001B[1;33m         \u001B[0mself\u001B[0m\u001B[1;33m.\u001B[0m\u001B[0mdf\u001B[0m \u001B[1;33m=\u001B[0m \u001B[0mcorrect_misshift\u001B[0m\u001B[1;33m(\u001B[0m\u001B[0msoup\u001B[0m\u001B[1;33m)\u001B[0m\u001B[1;33m\u001B[0m\u001B[1;33m\u001B[0m\u001B[0m\n\u001B[0m\u001B[0;32m    464\u001B[0m \u001B[1;33m\u001B[0m\u001B[0m\n\u001B[0;32m    465\u001B[0m         \u001B[0mself\u001B[0m\u001B[1;33m.\u001B[0m\u001B[0mfootnotes\u001B[0m \u001B[1;33m=\u001B[0m \u001B[0mfootnotes\u001B[0m\u001B[1;33m\u001B[0m\u001B[1;33m\u001B[0m\u001B[0m\n",
      "\u001B[1;32m~\\GitHub\\HTML-projektet\\Functions\\ParseFunctions.py\u001B[0m in \u001B[0;36mcorrect_misshift\u001B[1;34m(soup, identifier)\u001B[0m\n\u001B[0;32m    219\u001B[0m     \u001B[1;31m# analyze table head\u001B[0m\u001B[1;33m\u001B[0m\u001B[1;33m\u001B[0m\u001B[1;33m\u001B[0m\u001B[0m\n\u001B[0;32m    220\u001B[0m     \u001B[0mcol_counts\u001B[0m \u001B[1;33m=\u001B[0m \u001B[1;33m[\u001B[0m\u001B[1;33m]\u001B[0m\u001B[1;33m\u001B[0m\u001B[1;33m\u001B[0m\u001B[0m\n\u001B[1;32m--> 221\u001B[1;33m     \u001B[0mtheads\u001B[0m \u001B[1;33m=\u001B[0m \u001B[0msoup\u001B[0m\u001B[1;33m.\u001B[0m\u001B[0mfind\u001B[0m\u001B[1;33m(\u001B[0m\u001B[1;34m'thead'\u001B[0m\u001B[1;33m)\u001B[0m\u001B[1;33m.\u001B[0m\u001B[0mfindAll\u001B[0m\u001B[1;33m(\u001B[0m\u001B[1;34m'tr'\u001B[0m\u001B[1;33m)\u001B[0m\u001B[1;33m\u001B[0m\u001B[1;33m\u001B[0m\u001B[0m\n\u001B[0m\u001B[0;32m    222\u001B[0m     \u001B[1;32mif\u001B[0m \u001B[0midentifier\u001B[0m \u001B[1;33m!=\u001B[0m \u001B[1;32mNone\u001B[0m\u001B[1;33m:\u001B[0m\u001B[1;33m\u001B[0m\u001B[1;33m\u001B[0m\u001B[0m\n\u001B[0;32m    223\u001B[0m         \u001B[0mprint\u001B[0m\u001B[1;33m(\u001B[0m\u001B[1;34mf\"table name is: {identifier}\"\u001B[0m\u001B[1;33m)\u001B[0m\u001B[1;33m\u001B[0m\u001B[1;33m\u001B[0m\u001B[0m\n",
      "\u001B[1;31mAttributeError\u001B[0m: 'NoneType' object has no attribute 'findAll'"
     ]
    }
   ],
   "source": [
    "#cambridge = JM.Journal(\"cje\")\n",
    "\n",
    "#cambridge.volume(31).issue(4).article(8).table(5).footnotes # double introduction\n",
    "\n"
   ],
   "metadata": {
    "collapsed": false,
    "pycharm": {
     "name": "#%%\n"
    }
   }
  },
  {
   "cell_type": "code",
   "execution_count": 2,
   "outputs": [],
   "source": [
    "\n",
    "def scan_article(a):\n",
    "    fail_list = []\n",
    "    output_df = pd.DataFrame()\n",
    "    table_id = 1\n",
    "    headings = a.list_headings('list')\n",
    "\n",
    "    # check if the word placebo is found anywhere in the article\n",
    "    placebo_article = len(re.findall(r'placebo tests*', a.soup.text))\n",
    "\n",
    "    for h in headings:\n",
    "        if h.name.lower() in ['notes', 'appendix', 'references', 'supplementary data', 'author notes']:\n",
    "            continue\n",
    "\n",
    "        # check if the word placebo is found in the heading\n",
    "        placebo_section = len(re.findall(r'placebo tests*', h.text))\n",
    "\n",
    "        for t in h.list_tables('list'):\n",
    "            try:\n",
    "                # get the coefficients\n",
    "                cdf = t.list_coefficients()\n",
    "\n",
    "                if isinstance(cdf, pd.DataFrame):\n",
    "\n",
    "                    # check if word placebo in table\n",
    "                    table_string = t.df.to_string() + t.footnotes\n",
    "                    placebo_table = len(re.findall(r'placebo tests*', table_string))\n",
    "\n",
    "                    # specify columns to be appended\n",
    "                    cols_to_add = [\n",
    "                        ('journal', a.journal().abbreviation),\n",
    "                        ('volume', a.volume_number),\n",
    "                        ('year', a.year),\n",
    "                        ('issue', a.issue_number),\n",
    "                        ('article_id', a.id),\n",
    "                        ('article_doi', a.doi),\n",
    "                        ('placebo_article', placebo_article),\n",
    "                        ('heading_id', h.id_global),\n",
    "                        ('heading_name', h.name),\n",
    "                        ('placebo_section', placebo_section),\n",
    "                        ('table_id', table_id ),\n",
    "                        ('table_name', t.name),\n",
    "                        ('placebo_table', placebo_table)\n",
    "\n",
    "                    ]\n",
    "\n",
    "                    # now append the columns to the df\n",
    "                    for c in cols_to_add:\n",
    "                        cdf[c[0]] = c[1]\n",
    "                    col_names_to_add = [x[0] for x in cols_to_add]\n",
    "                    existing_cols = list(cdf.columns)\n",
    "                    cdf = cdf.reindex(columns=(col_names_to_add + existing_cols))\n",
    "\n",
    "                    # add the coefficient df to the output df\n",
    "                    if output_df.empty:\n",
    "                        output_df = cdf\n",
    "                    else:\n",
    "                        output_df = output_df.append(cdf)\n",
    "            except:\n",
    "                # table could not be analyzed\n",
    "                fail_list.append(table_id)\n",
    "\n",
    "            table_id += 1\n",
    "\n",
    "    return (output_df, fail_list)\n",
    "\n",
    "#a = ej.find_article_by_doi(\"https://doi.org/10.1111/ecoj.12509\")\n",
    "#scan_article(a)\n"
   ],
   "metadata": {
    "collapsed": false,
    "pycharm": {
     "name": "#%%\n"
    }
   }
  },
  {
   "cell_type": "code",
   "execution_count": 3,
   "outputs": [],
   "source": [
    "class fail_tracker:\n",
    "    def __init__(self):\n",
    "        self.dic = {'volume': [], 'issue': [], 'article': [], 'failed_all': [], 'tables': []}\n",
    "\n",
    "    def insert(self, v, i, a, fa, t):\n",
    "        self.dic['volume'].append(v)\n",
    "        self.dic['issue'].append(i)\n",
    "        self.dic['article'].append(a)\n",
    "        self.dic['failed_all'].append(fa)\n",
    "        self.dic['tables'].append(t)\n",
    "\n",
    "    def fail_article(self, a, verbose=False):\n",
    "        self.insert(a.volume_number, a.issue_number, a.doi, 1, None)\n",
    "        if verbose:\n",
    "            print(f\"Failed article {a.id}.\")\n",
    "\n",
    "    def fail_tables(self, a, failed_tables, verbose=False):\n",
    "        self.insert(a.volume_number, a.issue_number, a.doi, 0, failed_tables)\n",
    "        if verbose:\n",
    "            print(f\"Completed article {a.id}: Failed tables {failed_tables}.\")\n",
    "\n",
    "    def compile_df(self):\n",
    "        return pd.DataFrame(self.dic)"
   ],
   "metadata": {
    "collapsed": false,
    "pycharm": {
     "name": "#%%\n"
    }
   }
  },
  {
   "cell_type": "code",
   "execution_count": 5,
   "outputs": [],
   "source": [
    "# study PLACEBO\n",
    "\n",
    "# vol = ej.volume(128)\n",
    "# iss = vol.issue(614)\n",
    "# a = iss.article(6)\n",
    "# tables = a.list_tables(\"list\")\n",
    "# for t in tables:\n",
    "#     print(t.list_coefficients())\n"
   ],
   "metadata": {
    "collapsed": false,
    "pycharm": {
     "name": "#%%\n"
    }
   }
  },
  {
   "cell_type": "code",
   "execution_count": 5,
   "outputs": [],
   "source": [
    "# all articles from a journal\n",
    "def draw_random_articles(journal, n, exclude_doi=[]):\n",
    "    df = journal.ref_df\n",
    "    shuffled_df = df.sample(n=len(df), random_state = 23500)\n",
    "    filtered_df = shuffled_df.loc[shuffled_df['doi'].isin(exclude_doi), :]\n",
    "    output = filtered_df.iloc[0:n,:]\n",
    "    return output\n",
    "\n",
    "# dois from Sonja's tests\n",
    "sonja_dois = pd.read_excel('Spreadsheets/sonja_evaluation_rounds.xlsx')['article'].values\n",
    "\n",
    "# our new ej sample\n",
    "ej_sample = draw_random_articles(ej, 100, sonja_dois)['doi'].values\n",
    "\n"
   ],
   "metadata": {
    "collapsed": false,
    "pycharm": {
     "name": "#%%\n"
    }
   }
  },
  {
   "cell_type": "code",
   "execution_count": 6,
   "outputs": [
    {
     "name": "stdout",
     "output_type": "stream",
     "text": [
      "Completed article 11\n",
      "Completed article 9\n",
      "Completed article 2\n",
      "Completed article 22\n",
      "Completed article 2\n",
      "Completed article 7\n",
      "Completed article 6\n",
      "Completed article 4\n",
      "Completed article 4\n",
      "Completed article 5\n",
      "Completed article 13\n",
      "Failed article 2.\n",
      "Completed article 11\n",
      "Completed article 3\n",
      "Completed article 2\n",
      "Completed article 11\n",
      "Completed article 1\n",
      "Completed article 6\n",
      "Completed article 7: Failed tables [2, 3].\n",
      "Completed article 1\n",
      "Completed article 12: Failed tables [2, 4].\n",
      "Completed article 7\n",
      "Failed article 11.\n",
      "Completed article 5\n",
      "Failed article 2.\n",
      "Completed article 1\n",
      "Completed article 7\n",
      "Completed article 6\n",
      "Completed article 4\n",
      "Completed article 13\n",
      "Completed article 10\n",
      "Completed article 2\n",
      "Completed article 3\n",
      "Completed article 7\n",
      "Completed article 1: Failed tables [6].\n",
      "Completed article 3\n",
      "Completed article 8\n",
      "Failed article 9.\n",
      "Completed article 12\n",
      "Completed article 8\n",
      "Completed article 12: Failed tables [2].\n",
      "Failed article 7.\n",
      "Completed article 12\n",
      "Completed article 10\n",
      "Completed article 8\n",
      "Failed article 7.\n",
      "Completed article 4\n",
      "Completed article 7\n",
      "Completed article 11: Failed tables [1].\n",
      "Completed article 2\n",
      "Failed article 1.\n",
      "Completed article 1\n",
      "Completed article 5\n",
      "Completed article 6\n",
      "Failed article 5.\n",
      "Completed article 1\n",
      "Failed article 9.\n",
      "Completed article 6\n",
      "Completed article 7\n",
      "Completed article 2\n",
      "Completed article 1\n",
      "Completed article 10\n",
      "Completed article 9\n",
      "Completed article 7\n",
      "Completed article 14: Failed tables [9].\n",
      "Failed article 4.\n",
      "Completed article 9\n",
      "Failed article 4.\n",
      "Completed article 6\n",
      "Completed article 6: Failed tables [1].\n",
      "Failed article 12.\n",
      "Completed article 4\n",
      "Completed article 9\n",
      "Completed article 2\n",
      "Failed article 4.\n",
      "Completed article 14\n",
      "Completed article 7\n",
      "Completed article 2\n",
      "Completed article 6\n",
      "Completed article 8\n",
      "Completed article 8\n",
      "Completed article 5\n",
      "Completed article 1\n",
      "Completed article 10\n",
      "Completed article 1: Failed tables [6].\n",
      "Failed article 7.\n",
      "Completed article 6\n",
      "Completed article 10\n",
      "Completed article 4: Failed tables [3].\n",
      "Completed article 1\n",
      "Completed article 14\n",
      "Completed article 11\n",
      "Completed article 7\n",
      "Completed article 9\n",
      "Completed article 12\n",
      "Completed article 2\n",
      "Completed article 6\n",
      "Completed article 4: Failed tables [5].\n",
      "Completed article 2\n",
      "Completed article 4\n"
     ]
    },
    {
     "data": {
      "text/plain": "   journal  volume  year  issue article_id  \\\n0       ej     115  2005    501          2   \n1       ej     115  2005    501          2   \n2       ej     115  2005    501          2   \n0       ej     115  2005    501          2   \n1       ej     115  2005    501          2   \n..     ...     ...   ...    ...        ...   \n61      ej     115  2005    507          4   \n62      ej     115  2005    507          4   \n63      ej     115  2005    507          4   \n64      ej     115  2005    507          4   \n65      ej     115  2005    507          4   \n\n                                         article_doi  placebo_article  \\\n0   https://doi.org/10.1111/j.0013-0133.2005.00970.x                0   \n1   https://doi.org/10.1111/j.0013-0133.2005.00970.x                0   \n2   https://doi.org/10.1111/j.0013-0133.2005.00970.x                0   \n0   https://doi.org/10.1111/j.0013-0133.2005.00970.x                0   \n1   https://doi.org/10.1111/j.0013-0133.2005.00970.x                0   \n..                                               ...              ...   \n61  https://doi.org/10.1111/j.1468-0297.2005.01039.x                0   \n62  https://doi.org/10.1111/j.1468-0297.2005.01039.x                0   \n63  https://doi.org/10.1111/j.1468-0297.2005.01039.x                0   \n64  https://doi.org/10.1111/j.1468-0297.2005.01039.x                0   \n65  https://doi.org/10.1111/j.1468-0297.2005.01039.x                0   \n\n    heading_id   heading_name placebo_section  ...  issue article_id  \\\n0            6     5. Results               0  ...    501          2   \n1            6     5. Results               0  ...    501          2   \n2            6     5. Results               0  ...    501          2   \n0            6     5. Results               0  ...    501          2   \n1            6     5. Results               0  ...    501          2   \n..         ...            ...             ...  ...    ...        ...   \n61           5  4. Conclusion               0  ...    507          4   \n62           5  4. Conclusion               0  ...    507          4   \n63           5  4. Conclusion               0  ...    507          4   \n64           5  4. Conclusion               0  ...    507          4   \n65           5  4. Conclusion               0  ...    507          4   \n\n                                         article_doi  placebo_article  \\\n0   https://doi.org/10.1111/j.0013-0133.2005.00970.x                0   \n1   https://doi.org/10.1111/j.0013-0133.2005.00970.x                0   \n2   https://doi.org/10.1111/j.0013-0133.2005.00970.x                0   \n0   https://doi.org/10.1111/j.0013-0133.2005.00970.x                0   \n1   https://doi.org/10.1111/j.0013-0133.2005.00970.x                0   \n..                                               ...              ...   \n61  https://doi.org/10.1111/j.1468-0297.2005.01039.x                0   \n62  https://doi.org/10.1111/j.1468-0297.2005.01039.x                0   \n63  https://doi.org/10.1111/j.1468-0297.2005.01039.x                0   \n64  https://doi.org/10.1111/j.1468-0297.2005.01039.x                0   \n65  https://doi.org/10.1111/j.1468-0297.2005.01039.x                0   \n\n    heading_id   heading_name placebo_section  table_id table_name  \\\n0            6     5. Results               0         3    Table 3   \n1            6     5. Results               0         3    Table 3   \n2            6     5. Results               0         3    Table 3   \n0            6     5. Results               0         4    Table 4   \n1            6     5. Results               0         4    Table 4   \n..         ...            ...             ...       ...        ...   \n61           5  4. Conclusion               0         8       None   \n62           5  4. Conclusion               0         8       None   \n63           5  4. Conclusion               0         8       None   \n64           5  4. Conclusion               0         8       None   \n65           5  4. Conclusion               0         8       None   \n\n   placebo_table  \n0              0  \n1              0  \n2              0  \n0              0  \n1              0  \n..           ...  \n61             0  \n62             0  \n63             0  \n64             0  \n65             0  \n\n[5838 rows x 35 columns]",
      "text/html": "<div>\n<style scoped>\n    .dataframe tbody tr th:only-of-type {\n        vertical-align: middle;\n    }\n\n    .dataframe tbody tr th {\n        vertical-align: top;\n    }\n\n    .dataframe thead th {\n        text-align: right;\n    }\n</style>\n<table border=\"1\" class=\"dataframe\">\n  <thead>\n    <tr style=\"text-align: right;\">\n      <th></th>\n      <th>journal</th>\n      <th>volume</th>\n      <th>year</th>\n      <th>issue</th>\n      <th>article_id</th>\n      <th>article_doi</th>\n      <th>placebo_article</th>\n      <th>heading_id</th>\n      <th>heading_name</th>\n      <th>placebo_section</th>\n      <th>...</th>\n      <th>issue</th>\n      <th>article_id</th>\n      <th>article_doi</th>\n      <th>placebo_article</th>\n      <th>heading_id</th>\n      <th>heading_name</th>\n      <th>placebo_section</th>\n      <th>table_id</th>\n      <th>table_name</th>\n      <th>placebo_table</th>\n    </tr>\n  </thead>\n  <tbody>\n    <tr>\n      <th>0</th>\n      <td>ej</td>\n      <td>115</td>\n      <td>2005</td>\n      <td>501</td>\n      <td>2</td>\n      <td>https://doi.org/10.1111/j.0013-0133.2005.00970.x</td>\n      <td>0</td>\n      <td>6</td>\n      <td>5. Results</td>\n      <td>0</td>\n      <td>...</td>\n      <td>501</td>\n      <td>2</td>\n      <td>https://doi.org/10.1111/j.0013-0133.2005.00970.x</td>\n      <td>0</td>\n      <td>6</td>\n      <td>5. Results</td>\n      <td>0</td>\n      <td>3</td>\n      <td>Table 3</td>\n      <td>0</td>\n    </tr>\n    <tr>\n      <th>1</th>\n      <td>ej</td>\n      <td>115</td>\n      <td>2005</td>\n      <td>501</td>\n      <td>2</td>\n      <td>https://doi.org/10.1111/j.0013-0133.2005.00970.x</td>\n      <td>0</td>\n      <td>6</td>\n      <td>5. Results</td>\n      <td>0</td>\n      <td>...</td>\n      <td>501</td>\n      <td>2</td>\n      <td>https://doi.org/10.1111/j.0013-0133.2005.00970.x</td>\n      <td>0</td>\n      <td>6</td>\n      <td>5. Results</td>\n      <td>0</td>\n      <td>3</td>\n      <td>Table 3</td>\n      <td>0</td>\n    </tr>\n    <tr>\n      <th>2</th>\n      <td>ej</td>\n      <td>115</td>\n      <td>2005</td>\n      <td>501</td>\n      <td>2</td>\n      <td>https://doi.org/10.1111/j.0013-0133.2005.00970.x</td>\n      <td>0</td>\n      <td>6</td>\n      <td>5. Results</td>\n      <td>0</td>\n      <td>...</td>\n      <td>501</td>\n      <td>2</td>\n      <td>https://doi.org/10.1111/j.0013-0133.2005.00970.x</td>\n      <td>0</td>\n      <td>6</td>\n      <td>5. Results</td>\n      <td>0</td>\n      <td>3</td>\n      <td>Table 3</td>\n      <td>0</td>\n    </tr>\n    <tr>\n      <th>0</th>\n      <td>ej</td>\n      <td>115</td>\n      <td>2005</td>\n      <td>501</td>\n      <td>2</td>\n      <td>https://doi.org/10.1111/j.0013-0133.2005.00970.x</td>\n      <td>0</td>\n      <td>6</td>\n      <td>5. Results</td>\n      <td>0</td>\n      <td>...</td>\n      <td>501</td>\n      <td>2</td>\n      <td>https://doi.org/10.1111/j.0013-0133.2005.00970.x</td>\n      <td>0</td>\n      <td>6</td>\n      <td>5. Results</td>\n      <td>0</td>\n      <td>4</td>\n      <td>Table 4</td>\n      <td>0</td>\n    </tr>\n    <tr>\n      <th>1</th>\n      <td>ej</td>\n      <td>115</td>\n      <td>2005</td>\n      <td>501</td>\n      <td>2</td>\n      <td>https://doi.org/10.1111/j.0013-0133.2005.00970.x</td>\n      <td>0</td>\n      <td>6</td>\n      <td>5. Results</td>\n      <td>0</td>\n      <td>...</td>\n      <td>501</td>\n      <td>2</td>\n      <td>https://doi.org/10.1111/j.0013-0133.2005.00970.x</td>\n      <td>0</td>\n      <td>6</td>\n      <td>5. Results</td>\n      <td>0</td>\n      <td>4</td>\n      <td>Table 4</td>\n      <td>0</td>\n    </tr>\n    <tr>\n      <th>...</th>\n      <td>...</td>\n      <td>...</td>\n      <td>...</td>\n      <td>...</td>\n      <td>...</td>\n      <td>...</td>\n      <td>...</td>\n      <td>...</td>\n      <td>...</td>\n      <td>...</td>\n      <td>...</td>\n      <td>...</td>\n      <td>...</td>\n      <td>...</td>\n      <td>...</td>\n      <td>...</td>\n      <td>...</td>\n      <td>...</td>\n      <td>...</td>\n      <td>...</td>\n      <td>...</td>\n    </tr>\n    <tr>\n      <th>61</th>\n      <td>ej</td>\n      <td>115</td>\n      <td>2005</td>\n      <td>507</td>\n      <td>4</td>\n      <td>https://doi.org/10.1111/j.1468-0297.2005.01039.x</td>\n      <td>0</td>\n      <td>5</td>\n      <td>4. Conclusion</td>\n      <td>0</td>\n      <td>...</td>\n      <td>507</td>\n      <td>4</td>\n      <td>https://doi.org/10.1111/j.1468-0297.2005.01039.x</td>\n      <td>0</td>\n      <td>5</td>\n      <td>4. Conclusion</td>\n      <td>0</td>\n      <td>8</td>\n      <td>None</td>\n      <td>0</td>\n    </tr>\n    <tr>\n      <th>62</th>\n      <td>ej</td>\n      <td>115</td>\n      <td>2005</td>\n      <td>507</td>\n      <td>4</td>\n      <td>https://doi.org/10.1111/j.1468-0297.2005.01039.x</td>\n      <td>0</td>\n      <td>5</td>\n      <td>4. Conclusion</td>\n      <td>0</td>\n      <td>...</td>\n      <td>507</td>\n      <td>4</td>\n      <td>https://doi.org/10.1111/j.1468-0297.2005.01039.x</td>\n      <td>0</td>\n      <td>5</td>\n      <td>4. Conclusion</td>\n      <td>0</td>\n      <td>8</td>\n      <td>None</td>\n      <td>0</td>\n    </tr>\n    <tr>\n      <th>63</th>\n      <td>ej</td>\n      <td>115</td>\n      <td>2005</td>\n      <td>507</td>\n      <td>4</td>\n      <td>https://doi.org/10.1111/j.1468-0297.2005.01039.x</td>\n      <td>0</td>\n      <td>5</td>\n      <td>4. Conclusion</td>\n      <td>0</td>\n      <td>...</td>\n      <td>507</td>\n      <td>4</td>\n      <td>https://doi.org/10.1111/j.1468-0297.2005.01039.x</td>\n      <td>0</td>\n      <td>5</td>\n      <td>4. Conclusion</td>\n      <td>0</td>\n      <td>8</td>\n      <td>None</td>\n      <td>0</td>\n    </tr>\n    <tr>\n      <th>64</th>\n      <td>ej</td>\n      <td>115</td>\n      <td>2005</td>\n      <td>507</td>\n      <td>4</td>\n      <td>https://doi.org/10.1111/j.1468-0297.2005.01039.x</td>\n      <td>0</td>\n      <td>5</td>\n      <td>4. Conclusion</td>\n      <td>0</td>\n      <td>...</td>\n      <td>507</td>\n      <td>4</td>\n      <td>https://doi.org/10.1111/j.1468-0297.2005.01039.x</td>\n      <td>0</td>\n      <td>5</td>\n      <td>4. Conclusion</td>\n      <td>0</td>\n      <td>8</td>\n      <td>None</td>\n      <td>0</td>\n    </tr>\n    <tr>\n      <th>65</th>\n      <td>ej</td>\n      <td>115</td>\n      <td>2005</td>\n      <td>507</td>\n      <td>4</td>\n      <td>https://doi.org/10.1111/j.1468-0297.2005.01039.x</td>\n      <td>0</td>\n      <td>5</td>\n      <td>4. Conclusion</td>\n      <td>0</td>\n      <td>...</td>\n      <td>507</td>\n      <td>4</td>\n      <td>https://doi.org/10.1111/j.1468-0297.2005.01039.x</td>\n      <td>0</td>\n      <td>5</td>\n      <td>4. Conclusion</td>\n      <td>0</td>\n      <td>8</td>\n      <td>None</td>\n      <td>0</td>\n    </tr>\n  </tbody>\n</table>\n<p>5838 rows × 35 columns</p>\n</div>"
     },
     "execution_count": 6,
     "metadata": {},
     "output_type": "execute_result"
    }
   ],
   "source": [
    "# scan all of the articles in EJ\n",
    "ft = fail_tracker()\n",
    "failed_tables = []\n",
    "output_df = pd.DataFrame()\n",
    "\n",
    "# Loop volumes\n",
    "#for v in ej.list_volumes('list')[0:1]:\n",
    "#    vol = ej.volume(v)\n",
    "#\n",
    "#    # Loop issues\n",
    "#    for i in vol.list_issues('list')[0:1]:\n",
    "#        iss = vol.issue(i)\n",
    "#\n",
    "#        # Loop articles\n",
    "#        for a in iss.list_articles('list'):\n",
    "\n",
    "articles = [ej.find_article_by_doi(x) for x in ej_sample]\n",
    "\n",
    "for doi in ej_sample:\n",
    "    a = ej.find_article_by_doi(doi)\n",
    "    try:\n",
    "        x = scan_article(a)\n",
    "    except:\n",
    "        ft.fail_article(a, verbose=True)\n",
    "        continue\n",
    "    df = x[0] # extract the returned df of coefficients\n",
    "    failed_tables = x[1]  # extract the list of failed tables\n",
    "\n",
    "    # append the coefficient df to the output_df\n",
    "    if df.empty == False:\n",
    "        if output_df.empty:\n",
    "            output_df = df\n",
    "        else:\n",
    "            output_df = output_df.append(df)\n",
    "\n",
    "    if len(failed_tables) == 0:\n",
    "        print(f\"Completed article {a.id}\")\n",
    "    else:\n",
    "        ft.fail_tables(a, failed_tables, True)\n",
    "\n",
    "\n",
    "output_df\n",
    "\n"
   ],
   "metadata": {
    "collapsed": false,
    "pycharm": {
     "name": "#%%\n"
    }
   }
  },
  {
   "cell_type": "code",
   "execution_count": 7,
   "outputs": [],
   "source": [
    "# export the output to excel\n",
    "writer = pd.ExcelWriter('output.xlsx',engine='xlsxwriter',options={'strings_to_urls': False})\n",
    "output_df.to_excel(writer, index=False)\n",
    "writer.close()\n"
   ],
   "metadata": {
    "collapsed": false,
    "pycharm": {
     "name": "#%%\n"
    }
   }
  },
  {
   "cell_type": "code",
   "execution_count": 8,
   "outputs": [],
   "source": [
    "# export the fail list to excel\n",
    "writer = pd.ExcelWriter('fails.xlsx',engine='xlsxwriter',options={'strings_to_urls': False})\n",
    "ft.compile_df().to_excel(writer, index=False)\n",
    "writer.close()"
   ],
   "metadata": {
    "collapsed": false,
    "pycharm": {
     "name": "#%%\n"
    }
   }
  },
  {
   "cell_type": "code",
   "execution_count": 2,
   "outputs": [],
   "source": [],
   "metadata": {
    "collapsed": false,
    "pycharm": {
     "name": "#%%\n"
    }
   }
  },
  {
   "cell_type": "code",
   "execution_count": 8,
   "outputs": [
    {
     "data": {
      "text/plain": "\"One concern of feminist economists is with the appropriateness of mainstream methodology for understanding social reality (England, 1993; Folbre, 1993; Humphries, 1995; Lawson, 1997). This concern arises because of the limitations of a categorical structure of analysis put in place by mainstream economists, and the partial orientation of this analytical structure. The dominant paradigm is absolutist in nature, mostly involving isolated individuals operating in conditions where an equilibrium outcome is the result, which is often fictitious and is a way of providing universalising accounts.1 Feminist economists point out that this feature is motivated by the reduction of human relationships to one dominant Western white male ideal as a stereotype (England, 1993; Folbre, 1993; Humphries, 1995). Others argue that this outcome is brought about by a desire to facilitate the universal application of analytic or formalistic methods within economics (Lawson, 1997, 1999). Certainly, to understand the complexities of the world, and household structures in particular, feminist economists need to move beyond the mainstream paradigm. There are, however, projects already concerned with the broader features of the real world, which range from Marxism and (old) institutionalism to critical realism. Feminist economists already engage with and draw on these frameworks in important ways (Hartmann, 1981; Ferber and Nelson, 1993; Folbre, 1993; Mohan, 2003).The realist social theory project, conceptualised as critical realism within economics, has self-consciously set out to derive, via ontological analysis, a categorical structure appropriate to the world in which we live, including in particular the social realm (Lawson, 1997; Bourdieu, 1998, 1999). The social ontology outlined by advocates of critical realism provides a conception of the social world as, at once, structured, differentiated, emergent, process-driven, polyvalent, value-laden, holistic and human-agency dependent. It is a framework that captures and systematises the highly differentiated, evolving and interconnected world that feminists have uncovered in their empirically oriented research. Because critical realism concerns itself mostly with ontological analysis, it provides a categorical framework merely of possibilities, where it cannot be determined in advance which of the developed categories provides greatest insight or how all the various aspects are able to interconnect (Lawson, 1997, 1999). Work by feminist economists, then, especially through case studies, can fill in the details and thus reciprocally enrich the critical realist framework, just as they draw on it. My aim here is to uncover the ways in which social ontology offers an effective way of recognising diverse household structures that exist in our social world. In this paper I want to illustrate these claims by drawing on my own research on female-headship2 in eastern Sri Lanka.Orthodox economic readings of the household in some measure fail because the links between structure and agency are not included,3 and the household is treated as an undifferentiated unit akin to methodological individualism that underpins the dominant economic perspective (Becker, 1965). Methodological individualism cannot accommodate the combination of human agency and social structures in dynamic interaction (Lawson, 1997, p. 16; Humphries, 1998, p. 224).Others have provided (e.g., Sen, 1990; Agarwal, 1997) more progressive analyses of households and household relations. But I argue that, for all Sen's and Agarwal's strong points, households in their framework remain bounded, unitary and homogenous.4 They assume a standard patriarchal household and work within a framework of methodological individualism. Consequently, their analysis either neglects or is unable to explain diverse forms of household relations, including female-headship, which are networked, contested and diverse. My evidence, along with that of numerous others, suggests that the transformation of households is best understood by paying attention to the differentiated patriarchal structures (Chant, 1997; Chen, 1998; Ruwanpura, 2001). In this respect, the ontological analysis advocated by critical realism is particularly useful to my research. At the same time, research such as my own serves to illustrate how the critical realist conception works out in particular contexts, highlighting some of its more salient features for feminist economists—especially from a development perspective.\""
     },
     "execution_count": 8,
     "metadata": {},
     "output_type": "execute_result"
    }
   ],
   "source": [],
   "metadata": {
    "collapsed": false,
    "pycharm": {
     "name": "#%%\n"
    }
   }
  }
 ],
 "metadata": {
  "kernelspec": {
   "display_name": "Python 3",
   "language": "python",
   "name": "python3"
  },
  "language_info": {
   "codemirror_mode": {
    "name": "ipython",
    "version": 2
   },
   "file_extension": ".py",
   "mimetype": "text/x-python",
   "name": "python",
   "nbconvert_exporter": "python",
   "pygments_lexer": "ipython2",
   "version": "2.7.6"
  }
 },
 "nbformat": 4,
 "nbformat_minor": 0
}