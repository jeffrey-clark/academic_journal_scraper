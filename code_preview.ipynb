{
 "cells": [
  {
   "cell_type": "markdown",
   "metadata": {},
   "source": [
    "Import the Journal Model (Class Library) and load economic journal as \"ej\""
   ]
  },
  {
   "cell_type": "code",
   "execution_count": 2,
   "metadata": {
    "pycharm": {
     "name": "#%%\n"
    }
   },
   "outputs": [],
   "source": [
    "import Models.JournalModel as JM\n",
    "ej = JM.Journal(\"ej\")"
   ]
  },
  {
   "cell_type": "markdown",
   "metadata": {},
   "source": [
    "Check which volumes, years, issues we have"
   ]
  },
  {
   "cell_type": "code",
   "execution_count": 3,
   "metadata": {
    "collapsed": true
   },
   "outputs": [
    {
     "name": "stdout",
     "output_type": "stream",
     "text": [
      "For Data/The Economic Journal, we have the following volumes: [113, 114, 115, 116, 117, 118, 119, 120, 121, 122, 123, 124, 125, 126, 127, 128, 129, 130, 131]\n",
      "these volumes span the following years respectively: [2003, 2004, 2005, 2006, 2007, 2008, 2009, 2010, 2011, 2012, 2013, 2014, 2015, 2016, 2017, 2018, 2019, 2020, 2021]\n"
     ]
    }
   ],
   "source": [
    "volumes = ej.list_volumes('list')\n",
    "years = ej.list_years('list')\n",
    "\n",
    "print(f\"For {ej.name}, we have the following volumes: {volumes}\")\n",
    "print(f\"these volumes span the following years respectively: {years}\")"
   ]
  },
  {
   "cell_type": "markdown",
   "metadata": {},
   "source": [
    "We can list the issues in a volume. Lets take volume 126"
   ]
  },
  {
   "cell_type": "code",
   "execution_count": 4,
   "metadata": {
    "pycharm": {
     "name": "#%%\n"
    }
   },
   "outputs": [
    {
     "name": "stdout",
     "output_type": "stream",
     "text": [
      "In volume 126, we have the following issues: [590, 591, 592, 593, 594, 595, 596, 597, 598]\n"
     ]
    }
   ],
   "source": [
    "v = ej.volume(126)  # select volume 126\n",
    "issues = v.list_issues('list')\n",
    "\n",
    "print(f\"In volume 126, we have the following issues: {issues}\")"
   ]
  },
  {
   "cell_type": "markdown",
   "metadata": {},
   "source": [
    "let us select an issue and list the articles. Lets take issue 593"
   ]
  },
  {
   "cell_type": "code",
   "execution_count": 5,
   "metadata": {
    "pycharm": {
     "name": "#%%\n"
    }
   },
   "outputs": [
    {
     "data": {
      "text/plain": "                                              authors  \\\nid                                                      \n1                 [Achyuta Adhvaryu, Anant Nyshadham]   \n2    [İ. Semih Akçomak, Dinand Webbink, Bas ter Weel]   \n3           [Yann Algan, Pierre Cahuc, Marc Sangnier]   \n4                         [Stefan Ambec, Lars Ehlers]   \n5                                 [Jeffrey V. Butler]   \n6                 [Juan Carlos Córdoba, Marla Ripoll]   \n7              [Christian Dustmann, Francesco Fasani]   \n8   [Leopoldo Fergusson, James A. Robinson, Ragnar...   \n9                          [Eric D. Gould, Omer Moav]   \n10             [Grant D. Jacobsen, Dominic P. Parker]   \n11     [Juanna Schrøter Joensen, Helena Skyt Nielsen]   \n12                      [Edwin Leuven, Marte Rønning]   \n13                                     [Sergey Nigai]   \n14  [Gilles Saint‐Paul, Davide Ticchi, Andrea Vind...   \n15                    [Jan C. van Ours, Ben Vollaard]   \n\n                                                title  \nid                                                     \n1   Endowments at Birth and Parents’ Investments i...  \n2   Why Did the Netherlands Develop So Early? The ...  \n3   Trust and the Welfare State: The Twin Peaks Curve  \n4          Regulation via the Polluter‐pays Principle  \n5             Inequality and Relative Ability Beliefs  \n6   Intergenerational Transfers and the Fertility–...  \n7     The Effect of Local Area Crime on Mental Health  \n8                                The Need for Enemies  \n9   Does High Inequality Attract High Skilled Immi...  \n10  The Economic Aftermath of Resource Booms: Evid...  \n11  Mathematics and Gender: Heterogeneity in Cause...  \n12  Classroom Grade Composition and Pupil Achievement  \n13  On Measuring the Welfare Gains from Trade Unde...  \n14                 A Theory of Political Entrenchment  \n15  The Engine Immobiliser: A Non‐starter for Car ...  ",
      "text/html": "<div>\n<style scoped>\n    .dataframe tbody tr th:only-of-type {\n        vertical-align: middle;\n    }\n\n    .dataframe tbody tr th {\n        vertical-align: top;\n    }\n\n    .dataframe thead th {\n        text-align: right;\n    }\n</style>\n<table border=\"1\" class=\"dataframe\">\n  <thead>\n    <tr style=\"text-align: right;\">\n      <th></th>\n      <th>authors</th>\n      <th>title</th>\n    </tr>\n    <tr>\n      <th>id</th>\n      <th></th>\n      <th></th>\n    </tr>\n  </thead>\n  <tbody>\n    <tr>\n      <th>1</th>\n      <td>[Achyuta Adhvaryu, Anant Nyshadham]</td>\n      <td>Endowments at Birth and Parents’ Investments i...</td>\n    </tr>\n    <tr>\n      <th>2</th>\n      <td>[İ. Semih Akçomak, Dinand Webbink, Bas ter Weel]</td>\n      <td>Why Did the Netherlands Develop So Early? The ...</td>\n    </tr>\n    <tr>\n      <th>3</th>\n      <td>[Yann Algan, Pierre Cahuc, Marc Sangnier]</td>\n      <td>Trust and the Welfare State: The Twin Peaks Curve</td>\n    </tr>\n    <tr>\n      <th>4</th>\n      <td>[Stefan Ambec, Lars Ehlers]</td>\n      <td>Regulation via the Polluter‐pays Principle</td>\n    </tr>\n    <tr>\n      <th>5</th>\n      <td>[Jeffrey V. Butler]</td>\n      <td>Inequality and Relative Ability Beliefs</td>\n    </tr>\n    <tr>\n      <th>6</th>\n      <td>[Juan Carlos Córdoba, Marla Ripoll]</td>\n      <td>Intergenerational Transfers and the Fertility–...</td>\n    </tr>\n    <tr>\n      <th>7</th>\n      <td>[Christian Dustmann, Francesco Fasani]</td>\n      <td>The Effect of Local Area Crime on Mental Health</td>\n    </tr>\n    <tr>\n      <th>8</th>\n      <td>[Leopoldo Fergusson, James A. Robinson, Ragnar...</td>\n      <td>The Need for Enemies</td>\n    </tr>\n    <tr>\n      <th>9</th>\n      <td>[Eric D. Gould, Omer Moav]</td>\n      <td>Does High Inequality Attract High Skilled Immi...</td>\n    </tr>\n    <tr>\n      <th>10</th>\n      <td>[Grant D. Jacobsen, Dominic P. Parker]</td>\n      <td>The Economic Aftermath of Resource Booms: Evid...</td>\n    </tr>\n    <tr>\n      <th>11</th>\n      <td>[Juanna Schrøter Joensen, Helena Skyt Nielsen]</td>\n      <td>Mathematics and Gender: Heterogeneity in Cause...</td>\n    </tr>\n    <tr>\n      <th>12</th>\n      <td>[Edwin Leuven, Marte Rønning]</td>\n      <td>Classroom Grade Composition and Pupil Achievement</td>\n    </tr>\n    <tr>\n      <th>13</th>\n      <td>[Sergey Nigai]</td>\n      <td>On Measuring the Welfare Gains from Trade Unde...</td>\n    </tr>\n    <tr>\n      <th>14</th>\n      <td>[Gilles Saint‐Paul, Davide Ticchi, Andrea Vind...</td>\n      <td>A Theory of Political Entrenchment</td>\n    </tr>\n    <tr>\n      <th>15</th>\n      <td>[Jan C. van Ours, Ben Vollaard]</td>\n      <td>The Engine Immobiliser: A Non‐starter for Car ...</td>\n    </tr>\n  </tbody>\n</table>\n</div>"
     },
     "execution_count": 5,
     "metadata": {},
     "output_type": "execute_result"
    }
   ],
   "source": [
    "i = v.issue(593)\n",
    "i.list_articles()"
   ]
  },
  {
   "cell_type": "markdown",
   "metadata": {},
   "source": [
    "We can select an article easily from the issue object. Lets take article 3, about trust and the welfare state"
   ]
  },
  {
   "cell_type": "code",
   "execution_count": 13,
   "metadata": {
    "pycharm": {
     "name": "#%%\n"
    }
   },
   "outputs": [
    {
     "data": {
      "text/plain": "                     heading_name\nh1                               \n1                    Introduction\n2   1. Closely Related Literature\n3                 2. Experiment 1\n4                 3. Experiment 2\n5           4. Concluding Remarks\n6                       Footnotes\n7                      References\n8                    Author notes\n9              Supplementary data",
      "text/html": "<div>\n<style scoped>\n    .dataframe tbody tr th:only-of-type {\n        vertical-align: middle;\n    }\n\n    .dataframe tbody tr th {\n        vertical-align: top;\n    }\n\n    .dataframe thead th {\n        text-align: right;\n    }\n</style>\n<table border=\"1\" class=\"dataframe\">\n  <thead>\n    <tr style=\"text-align: right;\">\n      <th></th>\n      <th>heading_name</th>\n    </tr>\n    <tr>\n      <th>h1</th>\n      <th></th>\n    </tr>\n  </thead>\n  <tbody>\n    <tr>\n      <th>1</th>\n      <td>Introduction</td>\n    </tr>\n    <tr>\n      <th>2</th>\n      <td>1. Closely Related Literature</td>\n    </tr>\n    <tr>\n      <th>3</th>\n      <td>2. Experiment 1</td>\n    </tr>\n    <tr>\n      <th>4</th>\n      <td>3. Experiment 2</td>\n    </tr>\n    <tr>\n      <th>5</th>\n      <td>4. Concluding Remarks</td>\n    </tr>\n    <tr>\n      <th>6</th>\n      <td>Footnotes</td>\n    </tr>\n    <tr>\n      <th>7</th>\n      <td>References</td>\n    </tr>\n    <tr>\n      <th>8</th>\n      <td>Author notes</td>\n    </tr>\n    <tr>\n      <th>9</th>\n      <td>Supplementary data</td>\n    </tr>\n  </tbody>\n</table>\n</div>"
     },
     "execution_count": 13,
     "metadata": {},
     "output_type": "execute_result"
    }
   ],
   "source": [
    "a = i.article(5) # select article 3\n",
    "a.list_headings()"
   ]
  },
  {
   "cell_type": "markdown",
   "metadata": {},
   "source": [
    "We can list all of the headings in the article with the method list_headings()"
   ]
  },
  {
   "cell_type": "code",
   "execution_count": 7,
   "metadata": {
    "pycharm": {
     "name": "#%%\n"
    }
   },
   "outputs": [
    {
     "data": {
      "text/plain": "                     heading_name\nh1                               \n1                    Introduction\n2   1. Closely Related Literature\n3                 2. Experiment 1\n4                 3. Experiment 2\n5           4. Concluding Remarks\n6                       Footnotes\n7                      References\n8                    Author notes\n9              Supplementary data",
      "text/html": "<div>\n<style scoped>\n    .dataframe tbody tr th:only-of-type {\n        vertical-align: middle;\n    }\n\n    .dataframe tbody tr th {\n        vertical-align: top;\n    }\n\n    .dataframe thead th {\n        text-align: right;\n    }\n</style>\n<table border=\"1\" class=\"dataframe\">\n  <thead>\n    <tr style=\"text-align: right;\">\n      <th></th>\n      <th>heading_name</th>\n    </tr>\n    <tr>\n      <th>h1</th>\n      <th></th>\n    </tr>\n  </thead>\n  <tbody>\n    <tr>\n      <th>1</th>\n      <td>Introduction</td>\n    </tr>\n    <tr>\n      <th>2</th>\n      <td>1. Closely Related Literature</td>\n    </tr>\n    <tr>\n      <th>3</th>\n      <td>2. Experiment 1</td>\n    </tr>\n    <tr>\n      <th>4</th>\n      <td>3. Experiment 2</td>\n    </tr>\n    <tr>\n      <th>5</th>\n      <td>4. Concluding Remarks</td>\n    </tr>\n    <tr>\n      <th>6</th>\n      <td>Footnotes</td>\n    </tr>\n    <tr>\n      <th>7</th>\n      <td>References</td>\n    </tr>\n    <tr>\n      <th>8</th>\n      <td>Author notes</td>\n    </tr>\n    <tr>\n      <th>9</th>\n      <td>Supplementary data</td>\n    </tr>\n  </tbody>\n</table>\n</div>"
     },
     "execution_count": 7,
     "metadata": {},
     "output_type": "execute_result"
    }
   ],
   "source": [
    "a.list_headings()"
   ]
  },
  {
   "cell_type": "markdown",
   "metadata": {
    "pycharm": {
     "name": "#%% md\n"
    }
   },
   "source": [
    "We can also list all of the tables in the article by the method list_tables()"
   ]
  },
  {
   "cell_type": "code",
   "execution_count": 14,
   "metadata": {
    "pycharm": {
     "name": "#%%\n"
    }
   },
   "outputs": [
    {
     "data": {
      "text/plain": "        name                                              title\nid                                                             \n1    Table 1                     Summary of Experiment 1 Design\n2    Table 2                   Actual Performance, Experiment 1\n3    Table 3         Relative Performance Beliefs, Experiment 1\n4    Table 4            Actual Task 1 Performance, Experiment 2\n5    Table 5  Relative Task 1 Performance Beliefs, Ability‐i...\n6    Table 6  Relative Task 1 Performance Beliefs, Effort‐in...\n7    Table 7  Selecting Tournament Incentives for Task 2, Ab...\n8    Table 8        Beliefs and Tournament Choice, Experiment 2\n9    Table 9  Beliefs, Performance and Task 2 Valuations fro...\n10  Table 10                 Earnings from Task 2, Experiment 2",
      "text/html": "<div>\n<style scoped>\n    .dataframe tbody tr th:only-of-type {\n        vertical-align: middle;\n    }\n\n    .dataframe tbody tr th {\n        vertical-align: top;\n    }\n\n    .dataframe thead th {\n        text-align: right;\n    }\n</style>\n<table border=\"1\" class=\"dataframe\">\n  <thead>\n    <tr style=\"text-align: right;\">\n      <th></th>\n      <th>name</th>\n      <th>title</th>\n    </tr>\n    <tr>\n      <th>id</th>\n      <th></th>\n      <th></th>\n    </tr>\n  </thead>\n  <tbody>\n    <tr>\n      <th>1</th>\n      <td>Table 1</td>\n      <td>Summary of Experiment 1 Design</td>\n    </tr>\n    <tr>\n      <th>2</th>\n      <td>Table 2</td>\n      <td>Actual Performance, Experiment 1</td>\n    </tr>\n    <tr>\n      <th>3</th>\n      <td>Table 3</td>\n      <td>Relative Performance Beliefs, Experiment 1</td>\n    </tr>\n    <tr>\n      <th>4</th>\n      <td>Table 4</td>\n      <td>Actual Task 1 Performance, Experiment 2</td>\n    </tr>\n    <tr>\n      <th>5</th>\n      <td>Table 5</td>\n      <td>Relative Task 1 Performance Beliefs, Ability‐i...</td>\n    </tr>\n    <tr>\n      <th>6</th>\n      <td>Table 6</td>\n      <td>Relative Task 1 Performance Beliefs, Effort‐in...</td>\n    </tr>\n    <tr>\n      <th>7</th>\n      <td>Table 7</td>\n      <td>Selecting Tournament Incentives for Task 2, Ab...</td>\n    </tr>\n    <tr>\n      <th>8</th>\n      <td>Table 8</td>\n      <td>Beliefs and Tournament Choice, Experiment 2</td>\n    </tr>\n    <tr>\n      <th>9</th>\n      <td>Table 9</td>\n      <td>Beliefs, Performance and Task 2 Valuations fro...</td>\n    </tr>\n    <tr>\n      <th>10</th>\n      <td>Table 10</td>\n      <td>Earnings from Task 2, Experiment 2</td>\n    </tr>\n  </tbody>\n</table>\n</div>"
     },
     "execution_count": 14,
     "metadata": {},
     "output_type": "execute_result"
    }
   ],
   "source": [
    "a.list_tables()"
   ]
  },
  {
   "cell_type": "markdown",
   "metadata": {},
   "source": [
    "We can select a table and view it in the console. Lets look at table 4"
   ]
  },
  {
   "cell_type": "markdown",
   "metadata": {},
   "source": []
  },
  {
   "cell_type": "code",
   "execution_count": 16,
   "metadata": {
    "pycharm": {
     "name": "#%%\n"
    }
   },
   "outputs": [
    {
     "data": {
      "text/plain": "          Unnamed: 0_level_0   PI treatment               Control        \n          Unnamed: 0_level_1 High‐pay group Low‐pay group    C‐HP    C‐LP\n0  Number of correct guesses           6.54          6.69    6.63    6.81\n1                         SE         (0.25)        (0.25)  (0.31)  (0.19)\n2               Observations             41            42      33      36",
      "text/html": "<div>\n<style scoped>\n    .dataframe tbody tr th:only-of-type {\n        vertical-align: middle;\n    }\n\n    .dataframe tbody tr th {\n        vertical-align: top;\n    }\n\n    .dataframe thead tr th {\n        text-align: left;\n    }\n</style>\n<table border=\"1\" class=\"dataframe\">\n  <thead>\n    <tr>\n      <th></th>\n      <th>Unnamed: 0_level_0</th>\n      <th colspan=\"2\" halign=\"left\">PI treatment</th>\n      <th colspan=\"2\" halign=\"left\">Control</th>\n    </tr>\n    <tr>\n      <th></th>\n      <th>Unnamed: 0_level_1</th>\n      <th>High‐pay group</th>\n      <th>Low‐pay group</th>\n      <th>C‐HP</th>\n      <th>C‐LP</th>\n    </tr>\n  </thead>\n  <tbody>\n    <tr>\n      <th>0</th>\n      <td>Number of correct guesses</td>\n      <td>6.54</td>\n      <td>6.69</td>\n      <td>6.63</td>\n      <td>6.81</td>\n    </tr>\n    <tr>\n      <th>1</th>\n      <td>SE</td>\n      <td>(0.25)</td>\n      <td>(0.25)</td>\n      <td>(0.31)</td>\n      <td>(0.19)</td>\n    </tr>\n    <tr>\n      <th>2</th>\n      <td>Observations</td>\n      <td>41</td>\n      <td>42</td>\n      <td>33</td>\n      <td>36</td>\n    </tr>\n  </tbody>\n</table>\n</div>"
     },
     "execution_count": 16,
     "metadata": {},
     "output_type": "execute_result"
    }
   ],
   "source": [
    "t = a.table(2)  # select table 4\n",
    "t.df"
   ]
  },
  {
   "cell_type": "markdown",
   "metadata": {},
   "source": [
    "We can extract all of the coefficients by the method list_coefficients()"
   ]
  },
  {
   "cell_type": "code",
   "execution_count": 17,
   "metadata": {
    "pycharm": {
     "name": "#%%\n"
    }
   },
   "outputs": [
    {
     "data": {
      "text/plain": "   coefficient  standard_error  row_id                   row_name  col_id  \\\n1         6.54            0.25       4  Number of correct guesses       1   \n2         6.69            0.25       4  Number of correct guesses       2   \n3         6.63            0.31       4  Number of correct guesses       3   \n4         6.81            0.19       4  Number of correct guesses       4   \n\n                      col_name  sig_stars    z_score        p_value  \n1  PI treatment High‐pay group          0  26.160000  7.584223e-151  \n2   PI treatment Low‐pay group          0  26.760000  9.445642e-158  \n3                 Control C‐HP          0  21.387097  1.761889e-101  \n4                 Control C‐LP          0  35.842105  2.441139e-281  ",
      "text/html": "<div>\n<style scoped>\n    .dataframe tbody tr th:only-of-type {\n        vertical-align: middle;\n    }\n\n    .dataframe tbody tr th {\n        vertical-align: top;\n    }\n\n    .dataframe thead th {\n        text-align: right;\n    }\n</style>\n<table border=\"1\" class=\"dataframe\">\n  <thead>\n    <tr style=\"text-align: right;\">\n      <th></th>\n      <th>coefficient</th>\n      <th>standard_error</th>\n      <th>row_id</th>\n      <th>row_name</th>\n      <th>col_id</th>\n      <th>col_name</th>\n      <th>sig_stars</th>\n      <th>z_score</th>\n      <th>p_value</th>\n    </tr>\n  </thead>\n  <tbody>\n    <tr>\n      <th>1</th>\n      <td>6.54</td>\n      <td>0.25</td>\n      <td>4</td>\n      <td>Number of correct guesses</td>\n      <td>1</td>\n      <td>PI treatment High‐pay group</td>\n      <td>0</td>\n      <td>26.160000</td>\n      <td>7.584223e-151</td>\n    </tr>\n    <tr>\n      <th>2</th>\n      <td>6.69</td>\n      <td>0.25</td>\n      <td>4</td>\n      <td>Number of correct guesses</td>\n      <td>2</td>\n      <td>PI treatment Low‐pay group</td>\n      <td>0</td>\n      <td>26.760000</td>\n      <td>9.445642e-158</td>\n    </tr>\n    <tr>\n      <th>3</th>\n      <td>6.63</td>\n      <td>0.31</td>\n      <td>4</td>\n      <td>Number of correct guesses</td>\n      <td>3</td>\n      <td>Control C‐HP</td>\n      <td>0</td>\n      <td>21.387097</td>\n      <td>1.761889e-101</td>\n    </tr>\n    <tr>\n      <th>4</th>\n      <td>6.81</td>\n      <td>0.19</td>\n      <td>4</td>\n      <td>Number of correct guesses</td>\n      <td>4</td>\n      <td>Control C‐LP</td>\n      <td>0</td>\n      <td>35.842105</td>\n      <td>2.441139e-281</td>\n    </tr>\n  </tbody>\n</table>\n</div>"
     },
     "execution_count": 17,
     "metadata": {},
     "output_type": "execute_result"
    }
   ],
   "source": [
    "t.list_coefficients()"
   ]
  },
  {
   "cell_type": "markdown",
   "metadata": {},
   "source": [
    "If we want to look at the text in a specific section (under a specific heading) we select a heading and print the text attribute. Looking at the table of contents from the .list_headings() method above, let us look at the text in heading 1, the Introduction."
   ]
  },
  {
   "cell_type": "code",
   "execution_count": 18,
   "metadata": {
    "pycharm": {
     "name": "#%%\n"
    }
   },
   "outputs": [
    {
     "data": {
      "text/plain": "'What causes inequality to persist? This question is of perennial interest to economists both because of its implications for efficiency – underdeveloped or underutilised human capital may translate into forgone productivity – as well as on more general moral grounds. Given its long pedigree as a puzzle of interest, the literature on persistent inequality is large and offers many compelling theoretical explanations which can be grouped into a few broad categories (Piketty, 2000). One familiar category of explanations singles out the importance of external factors such as real or expected discrimination (Becker, 1971; Arrow, 1971) or access to credit markets upon which investment in human or physical capital depends (Loury, 1981; Banerjee and Newman, 1991,1993; Galor and Zeira, 1993; Torvik, 1993; Gaviria, 2002). A second category offers as a primary explanation differences in the distribution of individual traits or preferences, for example, risk tolerance, a preference for competition or aspirations (inter alia, Hoff and Pandey, 2006; Ray, 2006; Niederle and Vesterlund, 2007; Mookherjee et al., 2010). A third, nascent, category of explanations examines the ecology of inequality and suggests that social interactions, the social environment or culture shape traits, preferences or even cognitive ability in a way that reinforces existing inequalty (Durlauf, 1996; Akerlof, 2002; Gneezy et al., 2009; Bogliacino and Ortoleva, 2011; Afridi et al., 2012; Leibbrandt et al., 2013; Mani et al., 2013; Bowles et al., 2014).In this article, I provide the first clean experimental evidence documenting a fourth, under‐explored, class of explanations. This fourth class of explanations starts from the well‐established notion that differences in the willingness to compete may account for a substantial fraction of economic inequality (Niederle and Vesterlund, 2007). Of particular importance may be ability‐based competition, since this is the type of competition upon which many pathways to success depend – the quintessential example being matriculating at a highly selective college. Willingness to compete depends on at least two components: a preference to compete as well as beliefs about the likelihood of success. While the existing literature has largely focused on the preference component, in this study I focus on the beliefs component and investigate individuals’ beliefs about their relative ability. Because individuals’ subjective ex ante expected returns to ability‐based competition depend positively on relative ability beliefs, those who believe they are relatively more able should, ceteris paribus, be more likely to enter into ability‐based competition. At the same time, those who are less sanguine about their relative ability should be less likely to select into competitive environments. Consequently, to provide novel evidence for the existence of a link between persistent inequality and relative ability beliefs I build on the belief in a just world literature (Lerner, 1965; or, more recently Bénabou and Tirole, 2006) to investigate the ecology of beliefs formation, formulating and testing a specific hypothesis:\\xa0Hypothesis 1.Experiencing unequal treatment changes individuals’ beliefs about their relative ability in a way consistent with the unequal treatment.A large body of research in social psychology starting with Lerner (1965) demonstrates that individuals have a deep‐seated and fundamental need to believe the world is just and fair. Dozens of subsequent studies document that individuals often respond to observing others treated unequally by, perhaps subconsciously, forming beliefs about them that justify the inequality, for example, blaming victims for their own misfortune. For an overview of this expansive literature, see Lerner and Miller (1978), Furnham (2003) or Hafer and Bègue (2005). But what about the victims themselves? Do individuals’ beliefs about their own relative merit respond similarly to unequal outcomes, so that individuals blame themselves for their own misfortunes? If so, this may provide a mechanism generating self‐perpetuating inequality.Specifically, suppose a just world is a meritocratic world, so that economic outcomes are ideally distributed based on merit. Merit is often thought of as being a combination of effort and ability. If just world beliefs cause individuals to align their beliefs about their own relative merit with their economic situation, disadvantage may cause the disadvantaged to believe they are relatively less able; advantage may cause the advantaged to believe they are relatively more able. Because beliefs about relative ability are central to many of the plans and paths generating heterogeneity in economic success, just world beliefs may lead the initially disadvantaged (advantaged) to make decisions which perpetuate the initial inequality. In this study, I shed light on one such decision, the decision to compete, providing evidence consistent with the idea that past inequality may affect future competitiveness.\\xa0Hypothesis 2.Prior unequal treatment affects individuals’ subsequent willingness to compete.All together, the chain of reasoning leading inequality to self‐perpetuate here involves several steps, none of which is obvious a priori. It is not certain that just world beliefs affect beliefs about one’s own relative merit – particularly given the large literature documenting various self‐serving biases such as overconfidence (see the discussions in Moore and Healy, 2008; Grossman and Owens, 2012; Burks et al., 2013). Even then, it is not obvious whether beliefs about the ability component of merit – a stable trait – will be affected. Finally, it is not guaranteed that the effect of inequality on beliefs will be sufficiently strong to change behaviour.In this study, I present evidence from multiple experiments testing each step in this chain. While there are myriad ways to engender a feeling of being treated unequally in the laboratory, in the experiments reported herein I implement inequality in a familiar and economically relevant manner: unequal pay for equal performance. To keep theoretical performance incentives constant, I choose pay structures featuring identical marginal pay but different total compensation. Despite equal marginal incentives, one may still worry that the primary effect of inequality is on effort provision and related beliefs (Gill and Prowse, 2012; Hargreaves Heap et al., 2013).1 To shed light on this effort confound directly, in my second experiment I randomly vary whether performance depends on effort or cognitive ability. In all experiments I test the hypothesis that personally experienced unequal treatment colours individuals’ beliefs about their own relative ability. In my second experiment I additionally test whether initial inequality affects individuals’ subsequent willingness to compete.In doing so, I make two main contributions. First of all, I present evidence for a specific and under‐explored mechanism through which inequality may naturally persist. This mechanism is particularly important not because it supersedes previous explanations or explains all inequality persistence – inequality is a multifaceted phenomenon unlikely to be fully explained by one channel. Rather, its importance lies in providing minimal conditions under which initial inequality may become durable inequality: in environments where ability‐based competition is particularly important for success or failure, experienced inequality itself is sufficient. Secondly, the study contributes to our understanding of the ecology of economically relevant beliefs formation. While the consequences of just world beliefs and, more generally, cognitive dissonance have been studied by economists before (Akerlof and Dickens, 1982; Bénabou and Tirole, 2006), their impact on beliefs about one’s own economically relevant traits has so far eluded serious inquiry.The remainder of the article is organised as follows. First, I discuss closely related literature. In Section 2, the design of Experiment 1 is presented in detail, results are presented and then discussed. In Section 3, the design of Experiment 2 is presented, followed by results and a discussion. In Section 4, I summarise, discuss and put in context the findings from this study. Instructions for Experiments 1 and 2 appear in an online Appendix A. Data from all experiments reported herein are available online.'"
     },
     "execution_count": 18,
     "metadata": {},
     "output_type": "execute_result"
    }
   ],
   "source": [
    "intro = a.heading(1)\n",
    "intro.text"
   ]
  },
  {
   "cell_type": "markdown",
   "metadata": {},
   "source": [
    "If we want to look at the abstract instead, we can access the abstract directly from the article object."
   ]
  },
  {
   "cell_type": "code",
   "execution_count": 11,
   "metadata": {
    "pycharm": {
     "name": "#%%\n"
    }
   },
   "outputs": [
    {
     "data": {
      "text/plain": "'We show the existence of a twin peaks relation between trust and the size of the welfare state that stems from two opposing forces. Uncivic people support large welfare states because they expect to benefit from them without bearing their costs. But civic individuals support generous benefits and high taxes only when they are surrounded by trustworthy individuals. We provide empirical evidence for these behaviours and this twin peaks relation in the OECD countries.'"
     },
     "execution_count": 11,
     "metadata": {},
     "output_type": "execute_result"
    }
   ],
   "source": [
    "a.abstract"
   ]
  },
  {
   "cell_type": "markdown",
   "metadata": {
    "pycharm": {
     "name": "#%% md\n"
    }
   },
   "source": [
    "Article objects have other data stored in them as well. Authors, author count, doi link, etc."
   ]
  },
  {
   "cell_type": "code",
   "execution_count": 12,
   "metadata": {
    "pycharm": {
     "name": "#%%\n"
    }
   },
   "outputs": [
    {
     "name": "stdout",
     "output_type": "stream",
     "text": [
      "The article title is Trust and the Welfare State: The Twin Peaks Curve\n",
      "The authors are ['Yann Algan', 'Pierre Cahuc', 'Marc Sangnier']\n",
      "The number of authors are 3\n",
      "The article's doi is: https://doi.org/10.1111/ecoj.12278\n"
     ]
    }
   ],
   "source": [
    "print(f\"The article title is {a.title}\")\n",
    "print(f\"The authors are {a.authors}\")\n",
    "print(f\"The number of authors are {a.author_count}\")\n",
    "print(f\"The article's doi is: {a.doi}\")"
   ]
  },
  {
   "cell_type": "markdown",
   "metadata": {},
   "source": [
    "For a final comment, we can access an article directly by doi, instead of going through volume and issue. We can access the same article by its doi"
   ]
  },
  {
   "cell_type": "code",
   "execution_count": 13,
   "metadata": {
    "pycharm": {
     "name": "#%%\n"
    }
   },
   "outputs": [
    {
     "data": {
      "text/plain": "True"
     },
     "execution_count": 13,
     "metadata": {},
     "output_type": "execute_result"
    }
   ],
   "source": [
    "a2 = ej.find_article_by_doi(a.doi)  # access the article from the ej object by doi\n",
    "a.title == a2.title # confirm that it is the same article"
   ]
  }
 ],
 "metadata": {
  "kernelspec": {
   "display_name": "Python 3",
   "language": "python",
   "name": "python3"
  },
  "language_info": {
   "codemirror_mode": {
    "name": "ipython",
    "version": 3
   },
   "file_extension": ".py",
   "mimetype": "text/x-python",
   "name": "python",
   "nbconvert_exporter": "python",
   "pygments_lexer": "ipython3",
   "version": "3.8.3"
  }
 },
 "nbformat": 4,
 "nbformat_minor": 1
}