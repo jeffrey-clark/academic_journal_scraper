{
 "cells": [
  {
   "cell_type": "markdown",
   "metadata": {
    "collapsed": true,
    "pycharm": {
     "name": "#%% md\n"
    }
   },
   "source": [
    "# Economic Journal Algorithm\n",
    "Algorithm notes:\n",
    "\n",
    "- I want to do list_articles, then for a in articles\n",
    "\n",
    "--> give \"list\" and \"df\" option to all methods listing objects\n",
    "\n",
    "- in the .list_headings(\"list\") we shall return the headings expanded, while the selection of a heading/subheading runs on a non-expanded headings list\n",
    "- note we should add a parent attribute to the nested headings\n",
    "\n",
    "- Long term goal, extract all ej specific functions and put in separate file, so that we know which functions need to be rewritten for future journals\n"
   ]
  },
  {
   "cell_type": "code",
   "execution_count": 7,
   "outputs": [],
   "source": [
    "import Models.JournalModel as JM\n",
    "import pandas as pd\n",
    "import numpy as np\n",
    "import re, os, sys\n",
    "\n",
    "ej = JM.Journal('Economic Journal', \"ej\", \"Data/Economic_Journal\")"
   ],
   "metadata": {
    "collapsed": false,
    "pycharm": {
     "name": "#%%\n"
    }
   }
  },
  {
   "cell_type": "code",
   "execution_count": 8,
   "outputs": [
    {
     "data": {
      "text/plain": "     Unnamed: 0_level_0            (1)            (2)      (3)      (4)\n     Unnamed: 0_level_1 Permanent work Permanent work Any work Any work\n0                Pooled          0.043            NaN   0.067*      NaN\n1               (0.027)            NaN        (0.034)      NaN      NaN\n2                 Board            NaN        0.078**      NaN    0.046\n3                   NaN        (0.037)            NaN  (0.051)      NaN\n4                  City            NaN        −0.0043      NaN  0.088**\n5                   NaN        (0.034)            NaN  (0.041)      NaN\n6          Observations            657            657      658      658\n7                    R2          0.215          0.221    0.578    0.581\n8   Pooled control mean           0.13            NaN     0.53      NaN\n9    Board control mean            NaN           0.19      NaN     0.58\n10    City control mean            NaN          0.065      NaN     0.46",
      "text/html": "<div>\n<style scoped>\n    .dataframe tbody tr th:only-of-type {\n        vertical-align: middle;\n    }\n\n    .dataframe tbody tr th {\n        vertical-align: top;\n    }\n\n    .dataframe thead tr th {\n        text-align: left;\n    }\n</style>\n<table border=\"1\" class=\"dataframe\">\n  <thead>\n    <tr>\n      <th></th>\n      <th>Unnamed: 0_level_0</th>\n      <th>(1)</th>\n      <th>(2)</th>\n      <th>(3)</th>\n      <th>(4)</th>\n    </tr>\n    <tr>\n      <th></th>\n      <th>Unnamed: 0_level_1</th>\n      <th>Permanent work</th>\n      <th>Permanent work</th>\n      <th>Any work</th>\n      <th>Any work</th>\n    </tr>\n  </thead>\n  <tbody>\n    <tr>\n      <th>0</th>\n      <td>Pooled</td>\n      <td>0.043</td>\n      <td>NaN</td>\n      <td>0.067*</td>\n      <td>NaN</td>\n    </tr>\n    <tr>\n      <th>1</th>\n      <td>(0.027)</td>\n      <td>NaN</td>\n      <td>(0.034)</td>\n      <td>NaN</td>\n      <td>NaN</td>\n    </tr>\n    <tr>\n      <th>2</th>\n      <td>Board</td>\n      <td>NaN</td>\n      <td>0.078**</td>\n      <td>NaN</td>\n      <td>0.046</td>\n    </tr>\n    <tr>\n      <th>3</th>\n      <td>NaN</td>\n      <td>(0.037)</td>\n      <td>NaN</td>\n      <td>(0.051)</td>\n      <td>NaN</td>\n    </tr>\n    <tr>\n      <th>4</th>\n      <td>City</td>\n      <td>NaN</td>\n      <td>−0.0043</td>\n      <td>NaN</td>\n      <td>0.088**</td>\n    </tr>\n    <tr>\n      <th>5</th>\n      <td>NaN</td>\n      <td>(0.034)</td>\n      <td>NaN</td>\n      <td>(0.041)</td>\n      <td>NaN</td>\n    </tr>\n    <tr>\n      <th>6</th>\n      <td>Observations</td>\n      <td>657</td>\n      <td>657</td>\n      <td>658</td>\n      <td>658</td>\n    </tr>\n    <tr>\n      <th>7</th>\n      <td>R2</td>\n      <td>0.215</td>\n      <td>0.221</td>\n      <td>0.578</td>\n      <td>0.581</td>\n    </tr>\n    <tr>\n      <th>8</th>\n      <td>Pooled control mean</td>\n      <td>0.13</td>\n      <td>NaN</td>\n      <td>0.53</td>\n      <td>NaN</td>\n    </tr>\n    <tr>\n      <th>9</th>\n      <td>Board control mean</td>\n      <td>NaN</td>\n      <td>0.19</td>\n      <td>NaN</td>\n      <td>0.58</td>\n    </tr>\n    <tr>\n      <th>10</th>\n      <td>City control mean</td>\n      <td>NaN</td>\n      <td>0.065</td>\n      <td>NaN</td>\n      <td>0.46</td>\n    </tr>\n  </tbody>\n</table>\n</div>"
     },
     "execution_count": 8,
     "metadata": {},
     "output_type": "execute_result"
    }
   ],
   "source": [
    "ej.find_article_by_doi(\"https://doi.org/10.1111/ecoj.12509\").table(6)._df_raw\n",
    "#ej.find_article_by_doi(\"https://doi.org/10.1111/ecoj.12509\").heading(6).list_tables()"
   ],
   "metadata": {
    "collapsed": false,
    "pycharm": {
     "name": "#%%\n"
    }
   }
  },
  {
   "cell_type": "code",
   "execution_count": 9,
   "outputs": [
    {
     "data": {
      "text/plain": "     Unnamed: 0_level_0            (1)            (2)      (3)      (4)\n     Unnamed: 0_level_1 Permanent work Permanent work Any work Any work\n0                Pooled          0.043            NaN   0.067*      NaN\n1                   NaN        (0.027)            NaN  (0.034)      NaN\n2                 Board            NaN        0.078**      NaN    0.046\n3                   NaN            NaN        (0.037)      NaN  (0.051)\n4                  City            NaN        −0.0043      NaN  0.088**\n5                   NaN            NaN        (0.034)      NaN  (0.041)\n6          Observations            657            657      658      658\n7                    R2          0.215          0.221    0.578    0.581\n8   Pooled control mean           0.13            NaN     0.53      NaN\n9    Board control mean            NaN           0.19      NaN     0.58\n10    City control mean            NaN          0.065      NaN     0.46",
      "text/html": "<div>\n<style scoped>\n    .dataframe tbody tr th:only-of-type {\n        vertical-align: middle;\n    }\n\n    .dataframe tbody tr th {\n        vertical-align: top;\n    }\n\n    .dataframe thead tr th {\n        text-align: left;\n    }\n</style>\n<table border=\"1\" class=\"dataframe\">\n  <thead>\n    <tr>\n      <th></th>\n      <th>Unnamed: 0_level_0</th>\n      <th>(1)</th>\n      <th>(2)</th>\n      <th>(3)</th>\n      <th>(4)</th>\n    </tr>\n    <tr>\n      <th></th>\n      <th>Unnamed: 0_level_1</th>\n      <th>Permanent work</th>\n      <th>Permanent work</th>\n      <th>Any work</th>\n      <th>Any work</th>\n    </tr>\n  </thead>\n  <tbody>\n    <tr>\n      <th>0</th>\n      <td>Pooled</td>\n      <td>0.043</td>\n      <td>NaN</td>\n      <td>0.067*</td>\n      <td>NaN</td>\n    </tr>\n    <tr>\n      <th>1</th>\n      <td>NaN</td>\n      <td>(0.027)</td>\n      <td>NaN</td>\n      <td>(0.034)</td>\n      <td>NaN</td>\n    </tr>\n    <tr>\n      <th>2</th>\n      <td>Board</td>\n      <td>NaN</td>\n      <td>0.078**</td>\n      <td>NaN</td>\n      <td>0.046</td>\n    </tr>\n    <tr>\n      <th>3</th>\n      <td>NaN</td>\n      <td>NaN</td>\n      <td>(0.037)</td>\n      <td>NaN</td>\n      <td>(0.051)</td>\n    </tr>\n    <tr>\n      <th>4</th>\n      <td>City</td>\n      <td>NaN</td>\n      <td>−0.0043</td>\n      <td>NaN</td>\n      <td>0.088**</td>\n    </tr>\n    <tr>\n      <th>5</th>\n      <td>NaN</td>\n      <td>NaN</td>\n      <td>(0.034)</td>\n      <td>NaN</td>\n      <td>(0.041)</td>\n    </tr>\n    <tr>\n      <th>6</th>\n      <td>Observations</td>\n      <td>657</td>\n      <td>657</td>\n      <td>658</td>\n      <td>658</td>\n    </tr>\n    <tr>\n      <th>7</th>\n      <td>R2</td>\n      <td>0.215</td>\n      <td>0.221</td>\n      <td>0.578</td>\n      <td>0.581</td>\n    </tr>\n    <tr>\n      <th>8</th>\n      <td>Pooled control mean</td>\n      <td>0.13</td>\n      <td>NaN</td>\n      <td>0.53</td>\n      <td>NaN</td>\n    </tr>\n    <tr>\n      <th>9</th>\n      <td>Board control mean</td>\n      <td>NaN</td>\n      <td>0.19</td>\n      <td>NaN</td>\n      <td>0.58</td>\n    </tr>\n    <tr>\n      <th>10</th>\n      <td>City control mean</td>\n      <td>NaN</td>\n      <td>0.065</td>\n      <td>NaN</td>\n      <td>0.46</td>\n    </tr>\n  </tbody>\n</table>\n</div>"
     },
     "execution_count": 9,
     "metadata": {},
     "output_type": "execute_result"
    }
   ],
   "source": [
    "ej.find_article_by_doi(\"https://doi.org/10.1111/ecoj.12509\").table(6).df\n"
   ],
   "metadata": {
    "collapsed": false,
    "pycharm": {
     "name": "#%%\n"
    }
   }
  },
  {
   "cell_type": "code",
   "execution_count": 10,
   "outputs": [
    {
     "data": {
      "text/plain": "1"
     },
     "execution_count": 10,
     "metadata": {},
     "output_type": "execute_result"
    }
   ],
   "source": [
    "ej.year(2008).issue(529).article(3).author_count"
   ],
   "metadata": {
    "collapsed": false,
    "pycharm": {
     "name": "#%%\n"
    }
   }
  },
  {
   "cell_type": "code",
   "execution_count": 11,
   "outputs": [
    {
     "data": {
      "text/plain": "               heading_name\nh1                         \n1              Introduction\n2   1 Institutional Setting\n3             2 Methodology\n4                    3 Data\n5                 4 Results\n6              5 Conclusion\n7                     Notes\n8                References\n9              Author notes\n10       Supplementary data",
      "text/html": "<div>\n<style scoped>\n    .dataframe tbody tr th:only-of-type {\n        vertical-align: middle;\n    }\n\n    .dataframe tbody tr th {\n        vertical-align: top;\n    }\n\n    .dataframe thead th {\n        text-align: right;\n    }\n</style>\n<table border=\"1\" class=\"dataframe\">\n  <thead>\n    <tr style=\"text-align: right;\">\n      <th></th>\n      <th>heading_name</th>\n    </tr>\n    <tr>\n      <th>h1</th>\n      <th></th>\n    </tr>\n  </thead>\n  <tbody>\n    <tr>\n      <th>1</th>\n      <td>Introduction</td>\n    </tr>\n    <tr>\n      <th>2</th>\n      <td>1 Institutional Setting</td>\n    </tr>\n    <tr>\n      <th>3</th>\n      <td>2 Methodology</td>\n    </tr>\n    <tr>\n      <th>4</th>\n      <td>3 Data</td>\n    </tr>\n    <tr>\n      <th>5</th>\n      <td>4 Results</td>\n    </tr>\n    <tr>\n      <th>6</th>\n      <td>5 Conclusion</td>\n    </tr>\n    <tr>\n      <th>7</th>\n      <td>Notes</td>\n    </tr>\n    <tr>\n      <th>8</th>\n      <td>References</td>\n    </tr>\n    <tr>\n      <th>9</th>\n      <td>Author notes</td>\n    </tr>\n    <tr>\n      <th>10</th>\n      <td>Supplementary data</td>\n    </tr>\n  </tbody>\n</table>\n</div>"
     },
     "execution_count": 11,
     "metadata": {},
     "output_type": "execute_result"
    }
   ],
   "source": [
    "#ej.year(2008).issue(529).article(3)\n",
    "ej.volume(127).issue(602).article(9).list_headings()\n",
    "#ej.volume(127).issue(602).article(9).heading(1).soup.text\n",
    "#ej.volume(127).issue(602).article(9).heading(2).soup.text"
   ],
   "metadata": {
    "collapsed": false,
    "pycharm": {
     "name": "#%%\n"
    }
   }
  },
  {
   "cell_type": "code",
   "execution_count": 12,
   "outputs": [],
   "source": [
    "#ej.volume(119).issue(536).article(2).list_headings()\n",
    "\n",
    "# a = ej.year(2010).issue(545).list_articles() # is Hanukkah Responsive to Christmas?\n",
    "#a = ej.find_article_by_doi(\"https://doi.org/10.1111/j.1468-0297.2012.02544.x\")  # subheadings, no good tables\n",
    "#a = ej.volume(113).issue(484).article(1)\n",
    "# a = ej.find_article_by_doi(\"https://doi.org/10.1111/ecoj.12534\")\n",
    "# headings = a.list_headings(\"list\")\n",
    "# a.list_headings(\"df\")\n"
   ],
   "metadata": {
    "collapsed": false,
    "pycharm": {
     "name": "#%%\n"
    }
   }
  },
  {
   "cell_type": "code",
   "execution_count": 13,
   "outputs": [],
   "source": [
    "#ej.volume(113).issue(484).article(1).list_headings()"
   ],
   "metadata": {
    "collapsed": false,
    "pycharm": {
     "name": "#%%\n"
    }
   }
  },
  {
   "cell_type": "code",
   "execution_count": 14,
   "outputs": [],
   "source": [
    "# all_tables = []\n",
    "# for h in headings:\n",
    "#     all_tables = all_tables + h.list_tables()\n"
   ],
   "metadata": {
    "collapsed": false,
    "pycharm": {
     "name": "#%%\n"
    }
   }
  },
  {
   "cell_type": "code",
   "execution_count": 15,
   "outputs": [],
   "source": [
    "\n",
    "#a.heading(3).list_tables()\n",
    "#for t in a.list_tables():\n",
    "#    print(t)\n",
    "# a.list_tables()"
   ],
   "metadata": {
    "collapsed": false,
    "pycharm": {
     "name": "#%%\n"
    }
   }
  },
  {
   "cell_type": "markdown",
   "source": [],
   "metadata": {
    "collapsed": false
   }
  },
  {
   "cell_type": "code",
   "execution_count": 15,
   "outputs": [],
   "source": [
    "\n"
   ],
   "metadata": {
    "collapsed": false,
    "pycharm": {
     "name": "#%%\n"
    }
   }
  },
  {
   "cell_type": "code",
   "execution_count": 15,
   "outputs": [],
   "source": [],
   "metadata": {
    "collapsed": false,
    "pycharm": {
     "name": "#%%\n"
    }
   }
  },
  {
   "cell_type": "code",
   "execution_count": 15,
   "outputs": [],
   "source": [
    "\n"
   ],
   "metadata": {
    "collapsed": false,
    "pycharm": {
     "name": "#%%\n"
    }
   }
  },
  {
   "cell_type": "code",
   "execution_count": 16,
   "outputs": [],
   "source": [
    "# import Sonja's evaluation rounds\n",
    "# doi_rounds_df = pd.read_excel(\"Spreadsheets/sonja_evaluation_rounds.xlsx\")\n",
    "#\n",
    "# rounds = doi_rounds_df['evaluation round'].unique()\n",
    "#\n",
    "# dois = []\n",
    "# for round in rounds[0:1]:\n",
    "#     dois = doi_rounds_df.loc[doi_rounds_df['evaluation round'] == round, 'article'].unique()\n",
    "#\n",
    "# for doi in dois:\n",
    "#     a = ej.find_article_by_doi(doi)\n",
    "#     print(a.title)\n",
    "#     print(a.doi)\n",
    "#     print(a.list_headings())\n"
   ],
   "metadata": {
    "collapsed": false,
    "pycharm": {
     "name": "#%%\n"
    }
   }
  },
  {
   "cell_type": "markdown",
   "source": [],
   "metadata": {
    "collapsed": false,
    "pycharm": {
     "name": "#%% md\n"
    }
   }
  }
 ],
 "metadata": {
  "kernelspec": {
   "display_name": "Python 3",
   "language": "python",
   "name": "python3"
  },
  "language_info": {
   "codemirror_mode": {
    "name": "ipython",
    "version": 2
   },
   "file_extension": ".py",
   "mimetype": "text/x-python",
   "name": "python",
   "nbconvert_exporter": "python",
   "pygments_lexer": "ipython2",
   "version": "2.7.6"
  }
 },
 "nbformat": 4,
 "nbformat_minor": 0
}